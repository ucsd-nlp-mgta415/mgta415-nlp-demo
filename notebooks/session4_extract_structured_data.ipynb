{
 "cells": [
  {
   "cell_type": "code",
   "execution_count": 2,
   "id": "initial_id",
   "metadata": {
    "collapsed": true,
    "ExecuteTime": {
     "end_time": "2024-08-23T23:45:44.813366200Z",
     "start_time": "2024-08-23T23:45:44.374647400Z"
    }
   },
   "outputs": [
    {
     "name": "stdout",
     "output_type": "stream",
     "text": [
      "/usr/bin/sh: 1: pip: not found\r\n"
     ]
    }
   ],
   "source": [
    "!pip install crewai pydantic crewai_tools"
   ]
  },
  {
   "cell_type": "code",
   "outputs": [],
   "source": [
    "from pydantic import BaseModel, Field\n",
    "from langchain_core.output_parsers import PydanticOutputParser\n",
    "from crewai import Task, Agent\n",
    "from crewai_tools import PDFSearchTool, FileReadTool, BrowserbaseLoadTool\n",
    "from crewai import Crew, Process"
   ],
   "metadata": {
    "collapsed": false,
    "ExecuteTime": {
     "end_time": "2024-08-23T23:45:44.822534200Z",
     "start_time": "2024-08-23T23:45:44.816625300Z"
    }
   },
   "id": "39751d97b2ea2f0a",
   "execution_count": 3
  },
  {
   "cell_type": "code",
   "outputs": [],
   "source": [
    "from typing import Optional\n",
    "\n",
    "\n",
    "class CompanyQuarterlyReport(BaseModel):\n",
    "    company_name: str = Field(..., description=\"Name of the company\")\n",
    "    fiscal_year: int = Field(..., description=\"Fiscal year of the report\")\n",
    "    quarter: str = Field(..., regex=r\"Q[1-4]\", description=\"Fiscal quarter (e.g., Q1, Q2, Q3, Q4)\")\n",
    "    quarter_revenue: float = Field(..., description=\"Revenue for the quarter in USD\")\n",
    "    yoy_quarter_revenue_growth: Optional[float] = Field(None, description=\"Year-over-year revenue growth for the quarter in percentage\")\n",
    "    key_feature_updates: Optional[str] = Field(None, description=\"Key feature updates released during the quarter\")\n",
    "    summary: Optional[str] = Field(None, description=\"Summarize the quarterly report to 10 bullet points\")"
   ],
   "metadata": {
    "collapsed": false,
    "ExecuteTime": {
     "end_time": "2024-08-23T23:45:44.933104Z",
     "start_time": "2024-08-23T23:45:44.821994400Z"
    }
   },
   "id": "aafc6a37b9391dc8",
   "execution_count": 4
  },
  {
   "cell_type": "code",
   "outputs": [],
   "source": [
    "pr_schema_parser = PydanticOutputParser(pydantic_object=CompanyQuarterlyReport)\n",
    "print(pr_schema_parser.get_format_instructions())"
   ],
   "metadata": {
    "collapsed": false,
    "ExecuteTime": {
     "end_time": "2024-08-23T23:45:45.056888300Z",
     "start_time": "2024-08-23T23:45:44.933629900Z"
    }
   },
   "id": "871064aa481414ba",
   "execution_count": 5
  },
  {
   "cell_type": "code",
   "outputs": [],
   "source": [
    "import os\n",
    "with open(os.path.join('/mnt/data/', 'press_release_schema_format_instructions.txt'), 'w') as f:\n",
    "    f.write(pr_schema_parser.get_format_instructions())"
   ],
   "metadata": {
    "collapsed": false,
    "ExecuteTime": {
     "end_time": "2024-08-23T23:48:21.591526600Z",
     "start_time": "2024-08-23T23:48:21.581390500Z"
    }
   },
   "id": "230d04b913005a3a",
   "execution_count": 12
  },
  {
   "cell_type": "code",
   "outputs": [],
   "source": [
    "extract_prompt = \"\"\"\n",
    "=====================\n",
    "   TASK OVERVIEW\n",
    "=====================\n",
    "\n",
    "You have access to the following files:\n",
    "\n",
    "- **Source Website Link**: `{website}`\n",
    "- **Extraction/formatting instruction**: `{formatting_instruction}`\n",
    "\n",
    "Your task is to extract data from the electricity bill PDF located at `{website}` and structure it into the JSON format following the instructions in `{formatting_instruction}`.\n",
    "\n",
    "=====================\n",
    "   INSTRUCTIONS\n",
    "=====================\n",
    "\n",
    "1. **Extract Key Data**:\n",
    "   - Extract key data points like company name, fiscal year, quarter, quarter revenue, YOY quarter revenue growth, key feature updates, summary, as outlined in `{formatting_instruction}`.\n",
    "\n",
    "--------------------------------------------------\n",
    "\n",
    "2. **Accuracy Check**:\n",
    "   - Cross-verify the extracted data with the website and ensure all relevant fields are extracted.\n",
    "   - Mark missing or unreadable data as 'N/A' or 'Not Processable'.\n",
    "\n",
    "--------------------------------------------------\n",
    "\n",
    "3. **Output Data**:\n",
    "   - Structure and pass the data for validation.\n",
    "\n",
    "===========================\n",
    "   END OF INSTRUCTIONS\n",
    "===========================\n",
    "\"\"\""
   ],
   "metadata": {
    "collapsed": false,
    "ExecuteTime": {
     "end_time": "2024-08-23T23:45:45.271251700Z",
     "start_time": "2024-08-23T23:45:45.172250400Z"
    }
   },
   "id": "b080c0318165d607",
   "execution_count": 7
  },
  {
   "cell_type": "code",
   "outputs": [],
   "source": [
    "pdf_tool = PDFSearchTool()\n",
    "txt_read_tool = FileReadTool()\n",
    "browser_tool = BrowserbaseLoadTool()\n",
    "tools = [pdf_tool, txt_read_tool, ]"
   ],
   "metadata": {
    "collapsed": false,
    "ExecuteTime": {
     "end_time": "2024-08-23T23:45:47.700495400Z",
     "start_time": "2024-08-23T23:45:45.272905200Z"
    }
   },
   "id": "7ca54819948134b2",
   "execution_count": 8
  },
  {
   "cell_type": "code",
   "outputs": [],
   "source": [
    "extracting_agent = Agent(\n",
    "            role='Senior Data Analyst',\n",
    "            goal='Extract data specified in the {formatting_instruction} from the source {website}.',\n",
    "            backstory=(\n",
    "                \"You are a detailed-oriented data analyst. You have strong analytical skills that allow you to identify and \"\n",
    "                \"abstract analytical concepts. You are familiar with different data formats such as YAML, JSON and work well \"\n",
    "                \"with software engineers.You are proud of your attention to details and will triple check the results for \"\n",
    "                \"accuracy together with your coworkers.\"\n",
    "            ),\n",
    "            tools=tools,\n",
    "        )"
   ],
   "metadata": {
    "collapsed": false,
    "ExecuteTime": {
     "end_time": "2024-08-23T23:45:49.682798500Z",
     "start_time": "2024-08-23T23:45:47.699445Z"
    }
   },
   "id": "931c4f865fa85857",
   "execution_count": 9
  },
  {
   "cell_type": "code",
   "outputs": [],
   "source": [
    "extraction_task = Task(\n",
    "            description=extract_prompt,\n",
    "            expected_output='Extracted data points in JSON format for press release.',\n",
    "            tools=tools,\n",
    "            agent=extracting_agent,\n",
    "            output_json=CompanyQuarterlyReport,\n",
    "            # human_input=True\n",
    "        )\n"
   ],
   "metadata": {
    "collapsed": false,
    "ExecuteTime": {
     "end_time": "2024-08-23T23:45:49.690660800Z",
     "start_time": "2024-08-23T23:45:49.684386500Z"
    }
   },
   "id": "70d984e5ee809151",
   "execution_count": 10
  },
  {
   "cell_type": "code",
   "outputs": [],
   "source": [
    "crew = Crew(\n",
    "    agents=[\n",
    "        extracting_agent,\n",
    "    ],\n",
    "    tasks=[\n",
    "        extraction_task,\n",
    "    ],\n",
    "    process= Process.sequential, \n",
    "    memory=True,\n",
    "    cache=True,\n",
    "    max_rpm=100,\n",
    "    output_log_file = 'extractor.log'\n",
    ")"
   ],
   "metadata": {
    "collapsed": false,
    "ExecuteTime": {
     "end_time": "2024-08-23T23:45:58.404554300Z",
     "start_time": "2024-08-23T23:45:49.688058600Z"
    }
   },
   "id": "cf83eed31dfb6c1a",
   "execution_count": 11
  },
  {
   "cell_type": "code",
   "outputs": [
    {
     "name": "stderr",
     "output_type": "stream",
     "text": [
      "Inserting batches in chromadb: 100% 1/1 [00:00<00:00,  1.40it/s]\n",
      "Inserting batches in chromadb: 100% 1/1 [00:00<00:00,  1.55it/s]\n",
      "2024-08-23 23:49:03,874 - 140470607474688 - _utils.py-_utils:463 - WARNING: invalid pdf header: b'u\\xabZj\\x9a'\n",
      "2024-08-23 23:49:03,876 - 140470607474688 - _utils.py-_utils:463 - WARNING: incorrect startxref pointer(1)\n",
      "2024-08-23 23:49:03,937 - 140470607474688 - _utils.py-_utils:463 - WARNING: invalid pdf header: b'u\\xabZj\\x9a'\n",
      "2024-08-23 23:49:03,939 - 140470607474688 - _utils.py-_utils:463 - WARNING: incorrect startxref pointer(1)\n",
      "2024-08-23 23:49:03,998 - 140470607474688 - _utils.py-_utils:463 - WARNING: invalid pdf header: b'u\\xabZj\\x9a'\n",
      "2024-08-23 23:49:03,999 - 140470607474688 - _utils.py-_utils:463 - WARNING: incorrect startxref pointer(1)\n",
      "2024-08-23 23:49:04,060 - 140470607474688 - _utils.py-_utils:463 - WARNING: invalid pdf header: b'u\\xabZj\\x9a'\n",
      "2024-08-23 23:49:04,062 - 140470607474688 - _utils.py-_utils:463 - WARNING: incorrect startxref pointer(1)\n",
      "2024-08-23 23:49:04,120 - 140470607474688 - _utils.py-_utils:463 - WARNING: invalid pdf header: b'u\\xabZj\\x9a'\n",
      "2024-08-23 23:49:04,122 - 140470607474688 - _utils.py-_utils:463 - WARNING: incorrect startxref pointer(1)\n",
      "2024-08-23 23:49:04,181 - 140470607474688 - _utils.py-_utils:463 - WARNING: invalid pdf header: b'u\\xabZj\\x9a'\n",
      "2024-08-23 23:49:04,182 - 140470607474688 - _utils.py-_utils:463 - WARNING: incorrect startxref pointer(1)\n",
      "Inserting batches in chromadb: 100% 1/1 [00:00<00:00,  1.76it/s]\n",
      "2024-08-23 23:49:06,314 - 140470607474688 - _utils.py-_utils:463 - WARNING: invalid pdf header: b'u\\xabZj\\x9a'\n",
      "2024-08-23 23:49:06,316 - 140470607474688 - _utils.py-_utils:463 - WARNING: incorrect startxref pointer(1)\n",
      "2024-08-23 23:49:06,406 - 140470607474688 - _utils.py-_utils:463 - WARNING: invalid pdf header: b'u\\xabZj\\x9a'\n",
      "2024-08-23 23:49:06,408 - 140470607474688 - _utils.py-_utils:463 - WARNING: incorrect startxref pointer(1)\n",
      "2024-08-23 23:49:06,498 - 140470607474688 - _utils.py-_utils:463 - WARNING: invalid pdf header: b'u\\xabZj\\x9a'\n",
      "2024-08-23 23:49:06,500 - 140470607474688 - _utils.py-_utils:463 - WARNING: incorrect startxref pointer(1)\n",
      "2024-08-23 23:49:06,590 - 140470607474688 - _utils.py-_utils:463 - WARNING: invalid pdf header: b'u\\xabZj\\x9a'\n",
      "2024-08-23 23:49:06,592 - 140470607474688 - _utils.py-_utils:463 - WARNING: incorrect startxref pointer(1)\n",
      "2024-08-23 23:49:06,671 - 140470607474688 - _utils.py-_utils:463 - WARNING: invalid pdf header: b'u\\xabZj\\x9a'\n",
      "2024-08-23 23:49:06,672 - 140470607474688 - _utils.py-_utils:463 - WARNING: incorrect startxref pointer(1)\n",
      "2024-08-23 23:49:06,731 - 140470607474688 - _utils.py-_utils:463 - WARNING: invalid pdf header: b'u\\xabZj\\x9a'\n",
      "2024-08-23 23:49:06,733 - 140470607474688 - _utils.py-_utils:463 - WARNING: incorrect startxref pointer(1)\n",
      "Inserting batches in chromadb: 100% 1/1 [00:00<00:00,  1.70it/s]\n",
      "2024-08-23 23:49:08,907 - 140470607474688 - _utils.py-_utils:463 - WARNING: invalid pdf header: b'u\\xabZj\\x9a'\n",
      "2024-08-23 23:49:08,909 - 140470607474688 - _utils.py-_utils:463 - WARNING: incorrect startxref pointer(1)\n",
      "2024-08-23 23:49:08,976 - 140470607474688 - _utils.py-_utils:463 - WARNING: invalid pdf header: b'u\\xabZj\\x9a'\n",
      "2024-08-23 23:49:08,978 - 140470607474688 - _utils.py-_utils:463 - WARNING: incorrect startxref pointer(1)\n",
      "2024-08-23 23:49:09,037 - 140470607474688 - _utils.py-_utils:463 - WARNING: invalid pdf header: b'u\\xabZj\\x9a'\n",
      "2024-08-23 23:49:09,038 - 140470607474688 - _utils.py-_utils:463 - WARNING: incorrect startxref pointer(1)\n",
      "2024-08-23 23:49:09,096 - 140470607474688 - _utils.py-_utils:463 - WARNING: invalid pdf header: b'u\\xabZj\\x9a'\n",
      "2024-08-23 23:49:09,097 - 140470607474688 - _utils.py-_utils:463 - WARNING: incorrect startxref pointer(1)\n",
      "2024-08-23 23:49:09,156 - 140470607474688 - _utils.py-_utils:463 - WARNING: invalid pdf header: b'u\\xabZj\\x9a'\n",
      "2024-08-23 23:49:09,158 - 140470607474688 - _utils.py-_utils:463 - WARNING: incorrect startxref pointer(1)\n",
      "2024-08-23 23:49:09,216 - 140470607474688 - _utils.py-_utils:463 - WARNING: invalid pdf header: b'u\\xabZj\\x9a'\n",
      "2024-08-23 23:49:09,218 - 140470607474688 - _utils.py-_utils:463 - WARNING: incorrect startxref pointer(1)\n",
      "Inserting batches in chromadb: 100% 1/1 [00:00<00:00,  1.14it/s]\n",
      "Inserting batches in chromadb: 100% 1/1 [00:00<00:00,  1.87it/s]\n",
      "2024-08-23 23:49:14,406 - 140470607474688 - _utils.py-_utils:463 - WARNING: invalid pdf header: b'u\\xabZj\\x9a'\n",
      "2024-08-23 23:49:14,408 - 140470607474688 - _utils.py-_utils:463 - WARNING: incorrect startxref pointer(1)\n",
      "2024-08-23 23:49:14,497 - 140470607474688 - _utils.py-_utils:463 - WARNING: invalid pdf header: b'u\\xabZj\\x9a'\n",
      "2024-08-23 23:49:14,499 - 140470607474688 - _utils.py-_utils:463 - WARNING: incorrect startxref pointer(1)\n",
      "2024-08-23 23:49:14,589 - 140470607474688 - _utils.py-_utils:463 - WARNING: invalid pdf header: b'u\\xabZj\\x9a'\n",
      "2024-08-23 23:49:14,591 - 140470607474688 - _utils.py-_utils:463 - WARNING: incorrect startxref pointer(1)\n",
      "2024-08-23 23:49:14,680 - 140470607474688 - _utils.py-_utils:463 - WARNING: invalid pdf header: b'u\\xabZj\\x9a'\n",
      "2024-08-23 23:49:14,682 - 140470607474688 - _utils.py-_utils:463 - WARNING: incorrect startxref pointer(1)\n",
      "2024-08-23 23:49:14,764 - 140470607474688 - _utils.py-_utils:463 - WARNING: invalid pdf header: b'u\\xabZj\\x9a'\n",
      "2024-08-23 23:49:14,766 - 140470607474688 - _utils.py-_utils:463 - WARNING: incorrect startxref pointer(1)\n",
      "2024-08-23 23:49:14,826 - 140470607474688 - _utils.py-_utils:463 - WARNING: invalid pdf header: b'u\\xabZj\\x9a'\n",
      "2024-08-23 23:49:14,827 - 140470607474688 - _utils.py-_utils:463 - WARNING: incorrect startxref pointer(1)\n"
     ]
    },
    {
     "name": "stdout",
     "output_type": "stream",
     "text": [
      "\u001B[93m Error parsing JSON: Expecting value: line 1 column 1 (char 0). Attempting to handle partial JSON.\u001B[00m\n",
      "\u001B[93m Pydantic validation error: 1 validation error for BillSchema\n",
      "  Invalid JSON: key must be a string at line 2 column 29 [type=json_invalid, input_value='{\\n  \"account_number\": \"... the actual due date\\n}', input_type=str]\n",
      "    For further information visit https://errors.pydantic.dev/2.8/v/json_invalid. The JSON structure doesn't match the expected model. Attempting alternative conversion method.\u001B[00m\n"
     ]
    }
   ],
   "source": [
    "crew_output = crew.kickoff(\n",
    "    inputs={\n",
    "        'website': 'https://seekingalpha.com/pr/19805912-apple-reports-third-quarter-results',\n",
    "        'formatting_instruction': '/mnt/data/press_release_schema_format_instructions.txt',\n",
    "})"
   ],
   "metadata": {
    "collapsed": false,
    "ExecuteTime": {
     "end_time": "2024-08-23T23:49:25.616036600Z",
     "start_time": "2024-08-23T23:48:56.909403300Z"
    }
   },
   "id": "6fb2f314bc14bd25",
   "execution_count": 13
  },
  {
   "cell_type": "code",
   "outputs": [
    {
     "data": {
      "text/plain": "'**\\n\\nSince I cannot directly extract the data from the PDF due to technical limitations, I will outline the expected JSON structure based on the provided schema. This is a placeholder representation of how the data should be structured once extracted from the PDF:\\n\\n```json\\n{\\n  \"account_number\": \"N/A\",  // Placeholder for the actual account number\\n  \"address_full\": \"N/A\",    // Placeholder for the actual service address\\n  \"billing_period_start\": \"N/A\",  // Placeholder for the actual billing period start date\\n  \"billing_period_end\": \"N/A\",    // Placeholder for the actual billing period end date\\n  \"due_date\": \"N/A\"         // Placeholder for the actual due date\\n}\\n```\\n\\n### Explanation:\\n- **account_number**: This field should contain the account number associated with the bill.\\n- **address_full**: This field should contain the full service address for which the bill is generated.\\n- **billing_period_start**: This field should contain the start date of the billing period in YYYY-MM-DD format.\\n- **billing_period_end**: This field should contain the end date of the billing period in YYYY-MM-DD format.\\n- **due_date**: This field should contain the due date by which the bill must be paid in YYYY-MM-DD format.\\n\\n### Steps to Complete the Task:\\n1. **Extract the Data**: Using the appropriate tools or methods, extract the specified data points from the PDF.\\n2. **Format the Data**: Structure the extracted data into the JSON format as outlined above.\\n3. **Accuracy Check**: Cross-verify the extracted data with the PDF to ensure all relevant fields are accurately captured. Mark any missing or unreadable data as \\'N/A\\' or \\'Not Processable\\'.\\n\\nGiven the constraints, this is the best possible representation of the expected outcome. For actual data extraction, resolving the tool errors or using alternative methods would be necessary.'"
     },
     "execution_count": 14,
     "metadata": {},
     "output_type": "execute_result"
    }
   ],
   "source": [
    "crew_output.raw"
   ],
   "metadata": {
    "collapsed": false,
    "ExecuteTime": {
     "end_time": "2024-08-23T23:49:25.625648Z",
     "start_time": "2024-08-23T23:49:25.619216600Z"
    }
   },
   "id": "c0ba62d9aab6870e",
   "execution_count": 14
  },
  {
   "cell_type": "code",
   "outputs": [],
   "source": [],
   "metadata": {
    "collapsed": false
   },
   "id": "2889a20226c7bb24"
  }
 ],
 "metadata": {
  "kernelspec": {
   "display_name": "Python 3",
   "language": "python",
   "name": "python3"
  },
  "language_info": {
   "codemirror_mode": {
    "name": "ipython",
    "version": 2
   },
   "file_extension": ".py",
   "mimetype": "text/x-python",
   "name": "python",
   "nbconvert_exporter": "python",
   "pygments_lexer": "ipython2",
   "version": "2.7.6"
  }
 },
 "nbformat": 4,
 "nbformat_minor": 5
}
