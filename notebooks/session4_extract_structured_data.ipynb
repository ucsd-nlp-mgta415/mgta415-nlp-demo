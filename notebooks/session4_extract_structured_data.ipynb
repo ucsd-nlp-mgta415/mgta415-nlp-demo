{
 "cells": [
  {
   "cell_type": "markdown",
   "id": "bc728a2c-dcec-4166-8a16-e7f4efc1554e",
   "metadata": {},
   "source": [
    "# Extracting Structured Data from Websites\n",
    "\n",
    "- This notebook demonstrates the process of extracting structured data from PDFs and websites using custom tools and models. We'll use various tools from the CrewAI library to perform the extraction, define a data schema with Pydantic, and set up an agent to handle the extraction task.\n",
    "- You need to add BrowserBase API key (BROWSERBASE_API_KEY) project ID (BROWSERBASE_PROJECT_ID) and  in your .env so that the agent can access the webpage.\n"
   ]
  },
  {
   "cell_type": "markdown",
   "id": "ad566ea3-6756-469d-bd23-8d826de1882e",
   "metadata": {},
   "source": [
    "## Installing Required Libraries\n",
    "\n",
    "Before proceeding with the extraction, we need to install necessary libraries such as `crewai`, `pydantic`, and `crewai_tools`. These libraries provide the functionalities needed for building the extraction tools and parsing the outputs.\n"
   ]
  },
  {
   "cell_type": "code",
   "execution_count": 1,
   "id": "e8e604a4-00a3-4acf-8ebb-f70acc4d3535",
   "metadata": {},
   "outputs": [],
   "source": [
    "#!pip install crewai pydantic crewai_tools browserbase"
   ]
  },
  {
   "cell_type": "code",
   "execution_count": 2,
   "id": "39751d97b2ea2f0a",
   "metadata": {
    "ExecuteTime": {
     "end_time": "2024-08-23T23:45:44.822534200Z",
     "start_time": "2024-08-23T23:45:44.816625300Z"
    },
    "collapsed": false,
    "jupyter": {
     "outputs_hidden": false
    }
   },
   "outputs": [
    {
     "name": "stderr",
     "output_type": "stream",
     "text": [
      "/usr/local/lib/python3.10/dist-packages/pydantic/_internal/_config.py:341: UserWarning: Valid config keys have changed in V2:\n",
      "* 'allow_population_by_field_name' has been renamed to 'populate_by_name'\n",
      "* 'smart_union' has been removed\n",
      "  warnings.warn(message, UserWarning)\n"
     ]
    }
   ],
   "source": [
    "from pydantic import BaseModel, Field\n",
    "from langchain_core.output_parsers import PydanticOutputParser\n",
    "from crewai import Task, Agent\n",
    "from crewai_tools import PDFSearchTool, FileReadTool, BrowserbaseLoadTool\n",
    "from crewai import Crew, Process"
   ]
  },
  {
   "cell_type": "markdown",
   "id": "f12c4b32-8b73-4593-b028-7eb87f559a79",
   "metadata": {},
   "source": [
    "## Defining Data Models\n",
    "\n",
    "We define a Pydantic model `CompanyQuarterlyReport` to represent the structured data that we aim to extract. This model includes fields for company name, fiscal year, quarter, revenue, and other relevant data points.\n"
   ]
  },
  {
   "cell_type": "code",
   "execution_count": 3,
   "id": "aafc6a37b9391dc8",
   "metadata": {
    "ExecuteTime": {
     "end_time": "2024-08-23T23:45:44.933104Z",
     "start_time": "2024-08-23T23:45:44.821994400Z"
    },
    "collapsed": false,
    "jupyter": {
     "outputs_hidden": false
    }
   },
   "outputs": [],
   "source": [
    "from typing import Optional, List, Literal\n",
    "\n",
    "class CompanyQuarterlyReport(BaseModel):\n",
    "    company_name: str = Field(..., description=\"Name of the company\")\n",
    "    fiscal_year: int = Field(..., description=\"Fiscal year of the report\")\n",
    "    quarter: Literal['Q1', 'Q2', 'Q3', 'Q4'] = Field(..., description=\"Fiscal quarter (e.g., Q1, Q2, Q3, Q4)\")\n",
    "    quarter_revenue: float = Field(..., description=\"Revenue for the quarter in USD\")\n",
    "    yoy_quarter_revenue_growth: Optional[float] = Field(None, description=\"Year-over-year revenue growth for the quarter in percentage\")\n",
    "    key_feature_updates: str = Field(None, description=\"Key feature updates released during the quarter\")\n",
    "    summary: str = Field(None, description=\"Summarize the quarterly report in one paragraph\")"
   ]
  },
  {
   "cell_type": "markdown",
   "id": "737aeaec-8964-4348-b3b2-f3afcfed13e4",
   "metadata": {},
   "source": [
    "## Output Parsing Instructions\n",
    "\n",
    "To ensure the extracted data conforms to our defined schema, we use `PydanticOutputParser` to generate the necessary output format instructions. This ensures that our extraction process adheres to the expected schema.\n"
   ]
  },
  {
   "cell_type": "code",
   "execution_count": 4,
   "id": "871064aa481414ba",
   "metadata": {
    "ExecuteTime": {
     "end_time": "2024-08-23T23:45:45.056888300Z",
     "start_time": "2024-08-23T23:45:44.933629900Z"
    },
    "collapsed": false,
    "jupyter": {
     "outputs_hidden": false
    }
   },
   "outputs": [
    {
     "name": "stdout",
     "output_type": "stream",
     "text": [
      "The output should be formatted as a JSON instance that conforms to the JSON schema below.\n",
      "\n",
      "As an example, for the schema {\"properties\": {\"foo\": {\"title\": \"Foo\", \"description\": \"a list of strings\", \"type\": \"array\", \"items\": {\"type\": \"string\"}}}, \"required\": [\"foo\"]}\n",
      "the object {\"foo\": [\"bar\", \"baz\"]} is a well-formatted instance of the schema. The object {\"properties\": {\"foo\": [\"bar\", \"baz\"]}} is not well-formatted.\n",
      "\n",
      "Here is the output schema:\n",
      "```\n",
      "{\"properties\": {\"company_name\": {\"description\": \"Name of the company\", \"title\": \"Company Name\", \"type\": \"string\"}, \"fiscal_year\": {\"description\": \"Fiscal year of the report\", \"title\": \"Fiscal Year\", \"type\": \"integer\"}, \"quarter\": {\"description\": \"Fiscal quarter (e.g., Q1, Q2, Q3, Q4)\", \"enum\": [\"Q1\", \"Q2\", \"Q3\", \"Q4\"], \"title\": \"Quarter\", \"type\": \"string\"}, \"quarter_revenue\": {\"description\": \"Revenue for the quarter in USD\", \"title\": \"Quarter Revenue\", \"type\": \"number\"}, \"yoy_quarter_revenue_growth\": {\"anyOf\": [{\"type\": \"number\"}, {\"type\": \"null\"}], \"default\": null, \"description\": \"Year-over-year revenue growth for the quarter in percentage\", \"title\": \"Yoy Quarter Revenue Growth\"}, \"key_feature_updates\": {\"default\": null, \"description\": \"Key feature updates released during the quarter\", \"title\": \"Key Feature Updates\", \"type\": \"string\"}, \"summary\": {\"default\": null, \"description\": \"Summarize the quarterly report in one paragraph\", \"title\": \"Summary\", \"type\": \"string\"}}, \"required\": [\"company_name\", \"fiscal_year\", \"quarter\", \"quarter_revenue\"]}\n",
      "```\n"
     ]
    }
   ],
   "source": [
    "pr_schema_parser = PydanticOutputParser(pydantic_object=CompanyQuarterlyReport)\n",
    "print(pr_schema_parser.get_format_instructions())"
   ]
  },
  {
   "cell_type": "code",
   "execution_count": 5,
   "id": "230d04b913005a3a",
   "metadata": {
    "ExecuteTime": {
     "end_time": "2024-08-23T23:48:21.591526600Z",
     "start_time": "2024-08-23T23:48:21.581390500Z"
    },
    "collapsed": false,
    "jupyter": {
     "outputs_hidden": false
    }
   },
   "outputs": [],
   "source": [
    "import os\n",
    "with open(os.path.join('/mnt/data/', 'press_release_schema_format_instructions.txt'), 'w') as f:\n",
    "    f.write(pr_schema_parser.get_format_instructions())"
   ]
  },
  {
   "cell_type": "markdown",
   "id": "6988cd02-3345-4f89-9222-62ecc19446a7",
   "metadata": {},
   "source": [
    "## Setting Up Extraction Tools and Agent\n",
    "\n",
    "We initialize tools such as `PDFSearchTool`, `FileReadTool`, and `BrowserbaseLoadTool` to handle different aspects of the extraction process, such as searching PDFs and reading files. An agent is set up to coordinate the extraction tasks.\n"
   ]
  },
  {
   "cell_type": "code",
   "execution_count": 6,
   "id": "b080c0318165d607",
   "metadata": {
    "ExecuteTime": {
     "end_time": "2024-08-23T23:45:45.271251700Z",
     "start_time": "2024-08-23T23:45:45.172250400Z"
    },
    "collapsed": false,
    "jupyter": {
     "outputs_hidden": false
    }
   },
   "outputs": [],
   "source": [
    "extract_prompt = \"\"\"\n",
    "=====================\n",
    "   TASK OVERVIEW\n",
    "=====================\n",
    "\n",
    "You have access to the following paths:\n",
    "\n",
    "- **Source Website Link**: `{website}`\n",
    "- **Extraction/formatting instruction**: `{formatting_instruction}`\n",
    "\n",
    "Your task is to extract data from the press release article located at `{website}` and structure it into the JSON format following the instructions in `{formatting_instruction}`.\n",
    "\n",
    "=====================\n",
    "   INSTRUCTIONS\n",
    "=====================\n",
    "\n",
    "1. **Extract Key Data**:\n",
    "   - Extract key data points like company name, fiscal year, quarter, quarter revenue, YOY quarter revenue growth, key feature updates, summary, as outlined in `{formatting_instruction}`.\n",
    "\n",
    "--------------------------------------------------\n",
    "\n",
    "2. **Accuracy Check**:\n",
    "   - Cross-verify the extracted data with the website and ensure all relevant fields are extracted.\n",
    "   - Mark missing or unreadable data as 'N/A' or 'Not Processable'.\n",
    "\n",
    "--------------------------------------------------\n",
    "\n",
    "3. **Output Data**:\n",
    "   - Structure and pass the data for validation.\n",
    "\n",
    "===========================\n",
    "   END OF INSTRUCTIONS\n",
    "===========================\n",
    "\"\"\""
   ]
  },
  {
   "cell_type": "code",
   "execution_count": 7,
   "id": "7ca54819948134b2",
   "metadata": {
    "ExecuteTime": {
     "end_time": "2024-08-23T23:45:47.700495400Z",
     "start_time": "2024-08-23T23:45:45.272905200Z"
    },
    "collapsed": false,
    "jupyter": {
     "outputs_hidden": false
    }
   },
   "outputs": [],
   "source": [
    "pdf_tool = PDFSearchTool()\n",
    "txt_read_tool = FileReadTool()\n",
    "browser_tool = BrowserbaseLoadTool()\n",
    "tools = [pdf_tool, txt_read_tool, ]"
   ]
  },
  {
   "cell_type": "code",
   "execution_count": 8,
   "id": "931c4f865fa85857",
   "metadata": {
    "ExecuteTime": {
     "end_time": "2024-08-23T23:45:49.682798500Z",
     "start_time": "2024-08-23T23:45:47.699445Z"
    },
    "collapsed": false,
    "jupyter": {
     "outputs_hidden": false
    }
   },
   "outputs": [],
   "source": [
    "extracting_agent = Agent(\n",
    "            role='Senior Data Analyst',\n",
    "            goal='Extract data specified in the {formatting_instruction} from the source {website}.',\n",
    "            backstory=(\n",
    "                \"You are a detailed-oriented data analyst. You have strong analytical skills that allow you to identify and \"\n",
    "                \"abstract analytical concepts. You are familiar with different data formats such as YAML, JSON and work well \"\n",
    "                \"with software engineers.You are proud of your attention to details and will triple check the results for \"\n",
    "                \"accuracy together with your coworkers.\"\n",
    "            ),\n",
    "            tools=tools,\n",
    "        )"
   ]
  },
  {
   "cell_type": "code",
   "execution_count": 9,
   "id": "70d984e5ee809151",
   "metadata": {
    "ExecuteTime": {
     "end_time": "2024-08-23T23:45:49.690660800Z",
     "start_time": "2024-08-23T23:45:49.684386500Z"
    },
    "collapsed": false,
    "jupyter": {
     "outputs_hidden": false
    }
   },
   "outputs": [],
   "source": [
    "extraction_task = Task(\n",
    "            description=extract_prompt,\n",
    "            expected_output='Extracted data points in JSON format for press release.',\n",
    "            tools=tools,\n",
    "            agent=extracting_agent,\n",
    "            output_json=CompanyQuarterlyReport,\n",
    "            # human_input=True\n",
    "        )\n"
   ]
  },
  {
   "cell_type": "markdown",
   "id": "7eea2e1a-bde9-452c-be52-da9243fb376f",
   "metadata": {},
   "source": [
    "## Creating and Executing the Task\n",
    "\n",
    "We create a task to extract the required data based on the given instructions. The task is executed by the agent, and the output is validated against our data model.\n"
   ]
  },
  {
   "cell_type": "code",
   "execution_count": 10,
   "id": "cf83eed31dfb6c1a",
   "metadata": {
    "ExecuteTime": {
     "end_time": "2024-08-23T23:45:58.404554300Z",
     "start_time": "2024-08-23T23:45:49.688058600Z"
    },
    "collapsed": false,
    "jupyter": {
     "outputs_hidden": false
    }
   },
   "outputs": [],
   "source": [
    "crew = Crew(\n",
    "    agents=[\n",
    "        extracting_agent,\n",
    "    ],\n",
    "    tasks=[\n",
    "        extraction_task,\n",
    "    ],\n",
    "    process= Process.sequential, \n",
    "    memory=True,\n",
    "    cache=True,\n",
    "    max_rpm=100,\n",
    "    output_json = CompanyQuarterlyReport,\n",
    "    output_log_file = 'extractor.log'\n",
    ")"
   ]
  },
  {
   "cell_type": "markdown",
   "id": "d53026af-28a6-4ce2-b3c6-694c19de384a",
   "metadata": {},
   "source": [
    "## Running the Extraction Process\n",
    "\n",
    "The `Crew` object is initialized to manage the agents and tasks in a sequential manner. The extraction process is run with specific settings such as memory usage, caching, and rate limits.\n"
   ]
  },
  {
   "cell_type": "code",
   "execution_count": 11,
   "id": "6fb2f314bc14bd25",
   "metadata": {
    "ExecuteTime": {
     "end_time": "2024-08-23T23:49:25.616036600Z",
     "start_time": "2024-08-23T23:48:56.909403300Z"
    },
    "collapsed": false,
    "jupyter": {
     "outputs_hidden": false
    }
   },
   "outputs": [
    {
     "name": "stderr",
     "output_type": "stream",
     "text": [
      "Inserting batches in chromadb: 100% 1/1 [00:00<00:00,  2.01it/s]\n",
      "Inserting batches in chromadb: 100% 1/1 [00:00<00:00,  3.34it/s]\n",
      "Inserting batches in chromadb: 100% 1/1 [00:00<00:00,  3.12it/s]\n"
     ]
    },
    {
     "name": "stdout",
     "output_type": "stream",
     "text": [
      "\u001b[93m Error parsing JSON: Expecting value: line 1 column 1 (char 0). Attempting to handle partial JSON.\u001b[00m\n",
      "\u001b[93m Pydantic validation error: 1 validation error for CompanyQuarterlyReport\n",
      "  Invalid JSON: key must be a string at line 5 column 30 [type=json_invalid, input_value='{\\n  \"company_name\": \"Ap... Placeholder summary\\n}', input_type=str]\n",
      "    For further information visit https://errors.pydantic.dev/2.8/v/json_invalid. The JSON structure doesn't match the expected model. Attempting alternative conversion method.\u001b[00m\n"
     ]
    },
    {
     "name": "stderr",
     "output_type": "stream",
     "text": [
      "Inserting batches in chromadb: 100% 1/1 [00:00<00:00,  2.03it/s]\n"
     ]
    }
   ],
   "source": [
    "crew_output = crew.kickoff(\n",
    "    inputs={\n",
    "        'website': 'https://seekingalpha.com/pr/19805912-apple-reports-third-quarter-results',\n",
    "        'formatting_instruction': '/mnt/data/press_release_schema_format_instructions.txt',\n",
    "})"
   ]
  },
  {
   "cell_type": "markdown",
   "id": "bf452b58-7f9c-4294-979f-2a48b36d3fe3",
   "metadata": {},
   "source": [
    "## Conclusion and Results\n",
    "\n",
    "After running the extraction process, the extracted data is analyzed for accuracy and completeness. Further steps may include refining the extraction logic or improving the data model based on the results.\n"
   ]
  },
  {
   "cell_type": "code",
   "execution_count": 12,
   "id": "c0ba62d9aab6870e",
   "metadata": {
    "ExecuteTime": {
     "end_time": "2024-08-23T23:49:25.625648Z",
     "start_time": "2024-08-23T23:49:25.619216600Z"
    },
    "collapsed": false,
    "jupyter": {
     "outputs_hidden": false
    }
   },
   "outputs": [
    {
     "data": {
      "text/plain": [
       "{'company_name': 'Apple Inc.',\n",
       " 'fiscal_year': 2023,\n",
       " 'quarter': 'Q3',\n",
       " 'quarter_revenue': 81400.0,\n",
       " 'yoy_quarter_revenue_growth': 2.0,\n",
       " 'key_feature_updates': 'Released new MacBook Pro, announced iOS 16, expanded Apple Pay services',\n",
       " 'summary': 'Apple Inc. reported its financial results for the third quarter of the fiscal year 2023, showing a revenue of $81.4 billion with a year-over-year growth of 2%. The quarter saw the release of the new MacBook Pro, the announcement of iOS 16, and the expansion of Apple Pay services.'}"
      ]
     },
     "execution_count": 12,
     "metadata": {},
     "output_type": "execute_result"
    }
   ],
   "source": [
    "import json\n",
    "crew_output.json_dict"
   ]
  },
  {
   "cell_type": "code",
   "execution_count": null,
   "id": "2889a20226c7bb24",
   "metadata": {
    "collapsed": false,
    "jupyter": {
     "outputs_hidden": false
    }
   },
   "outputs": [],
   "source": []
  }
 ],
 "metadata": {
  "kernelspec": {
   "display_name": "Python 3 (ipykernel)",
   "language": "python",
   "name": "python3"
  },
  "language_info": {
   "codemirror_mode": {
    "name": "ipython",
    "version": 3
   },
   "file_extension": ".py",
   "mimetype": "text/x-python",
   "name": "python",
   "nbconvert_exporter": "python",
   "pygments_lexer": "ipython3",
   "version": "3.10.12"
  }
 },
 "nbformat": 4,
 "nbformat_minor": 5
}
