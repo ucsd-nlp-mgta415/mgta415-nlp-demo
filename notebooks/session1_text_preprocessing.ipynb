{
 "cells": [
  {
   "cell_type": "markdown",
   "id": "2ea62a66eed24bc2",
   "metadata": {
    "collapsed": false
   },
   "source": [
    "# MGTA 415 - Session 1 Demo: Utilize Python NLTK Package for Text Preprocessing\n",
    "1. Tokenization\n",
    "2. Stemming\n",
    "3. Lemmatization\n",
    "4. Text normalization"
   ]
  },
  {
   "cell_type": "code",
   "outputs": [],
   "source": [
    "# install necessary packages (only necessary if you run the notebook outside the container)\n",
    "# !pip install nltk"
   ],
   "metadata": {
    "collapsed": false,
    "ExecuteTime": {
     "end_time": "2024-07-05T23:36:28.592449700Z",
     "start_time": "2024-07-05T23:36:28.579414200Z"
    }
   },
   "id": "8a59dfaa492db47f",
   "execution_count": 4
  },
  {
   "cell_type": "code",
   "execution_count": 3,
   "id": "initial_id",
   "metadata": {
    "collapsed": true,
    "ExecuteTime": {
     "end_time": "2024-07-05T23:26:25.609038300Z",
     "start_time": "2024-07-05T23:26:24.550973500Z"
    }
   },
   "outputs": [
    {
     "name": "stderr",
     "output_type": "stream",
     "text": [
      "[nltk_data] Downloading package punkt to /root/nltk_data...\n",
      "[nltk_data]   Package punkt is already up-to-date!\n",
      "[nltk_data] Downloading package stopwords to /root/nltk_data...\n",
      "[nltk_data]   Package stopwords is already up-to-date!\n",
      "[nltk_data] Downloading package wordnet to /root/nltk_data...\n",
      "[nltk_data]   Package wordnet is already up-to-date!\n"
     ]
    },
    {
     "name": "stdout",
     "output_type": "stream",
     "text": [
      "Original Text: hello world im learning nlp ive got 2 apples usa is great\n",
      "Normalized Text: hello world im learning nlp ive got two apples usa is great\n",
      "Filtered Tokens: ['hello', 'world', 'im', 'learning', 'nlp', 'ive', 'got', 'two', 'apples', 'usa', 'great']\n",
      "Stemmed Tokens: ['hello', 'world', 'im', 'learn', 'nlp', 'ive', 'got', 'two', 'appl', 'usa', 'great']\n",
      "Lemmatized Tokens: ['hello', 'world', 'im', 'learn', 'nlp', 'ive', 'get', 'two', 'apples', 'usa', 'great']\n",
      "Bigrams: [('hello', 'world'), ('world', 'im'), ('im', 'learn'), ('learn', 'nlp'), ('nlp', 'ive'), ('ive', 'get'), ('get', 'two'), ('two', 'apples'), ('apples', 'usa'), ('usa', 'great')]\n",
      "Trigrams: [('hello', 'world', 'im'), ('world', 'im', 'learn'), ('im', 'learn', 'nlp'), ('learn', 'nlp', 'ive'), ('nlp', 'ive', 'get'), ('ive', 'get', 'two'), ('get', 'two', 'apples'), ('two', 'apples', 'usa'), ('apples', 'usa', 'great')]\n"
     ]
    }
   ],
   "source": [
    "import re\n",
    "from nltk.tokenize import word_tokenize\n",
    "from nltk.corpus import stopwords, wordnet\n",
    "from nltk.stem import PorterStemmer, WordNetLemmatizer\n",
    "import nltk\n",
    "\n",
    "# Download necessary NLTK data\n",
    "nltk.download('punkt')\n",
    "nltk.download('stopwords')\n",
    "nltk.download('wordnet')\n",
    "\n",
    "# Example text\n",
    "text = \"Hello, world! I'm learning NLP. I've got 2 apples. U.S.A. is great!\"\n",
    "\n",
    "# Lowercasing\n",
    "text = text.lower()\n",
    "\n",
    "# Removing punctuation\n",
    "text = re.sub(r'[^\\w\\s]', '', text)\n",
    "\n",
    "# Handling contractions (using a simple dictionary for this example)\n",
    "contractions = {\n",
    "    \"i'm\": \"i am\",\n",
    "    \"don't\": \"do not\",\n",
    "    \"i've\": \"i have\",\n",
    "    \"u.s.a\": \"usa\"\n",
    "}\n",
    "tokens = word_tokenize(text)\n",
    "normalized_tokens = [contractions.get(word, word) for word in tokens]\n",
    "\n",
    "# Standardizing numerical values (example of converting digits to words)\n",
    "# You can use the inflect library for a more comprehensive approach\n",
    "normalized_tokens = [re.sub(r'\\b2\\b', 'two', word) for word in normalized_tokens]\n",
    "\n",
    "# Removing special characters (already handled in punctuation removal, but this is an additional step for completeness)\n",
    "normalized_tokens = [re.sub(r'[^a-zA-Z0-9\\s]', '', word) for word in normalized_tokens]\n",
    "\n",
    "# Whitespace normalization\n",
    "normalized_text = ' '.join(normalized_tokens).strip()\n",
    "\n",
    "# Removing stopwords\n",
    "stop_words = set(stopwords.words('english'))\n",
    "filtered_tokens = [word for word in normalized_tokens if word not in stop_words]\n",
    "\n",
    "# Define custom stopwords\n",
    "custom_stop_words = ['hello', 'great']\n",
    "stop_words.update(['hello', 'great'])  # Adding custom stopwords to the stop words list\n",
    "\n",
    "# Stemming\n",
    "stemmer = PorterStemmer()\n",
    "stemmed_tokens = [stemmer.stem(word) for word in filtered_tokens]\n",
    "\n",
    "# Lemmatization\n",
    "lemmatizer = WordNetLemmatizer()\n",
    "lemmatized_tokens = [lemmatizer.lemmatize(word, wordnet.VERB) for word in filtered_tokens]\n",
    "\n",
    "# Generate n-grams from the lemmatized tokens\n",
    "bigrams = list(nltk.ngrams(lemmatized_tokens, 2))\n",
    "trigrams = list(nltk.ngrams(lemmatized_tokens, 3))\n",
    "\n",
    "print(\"Original Text:\", text)\n",
    "print(\"Normalized Text:\", normalized_text)\n",
    "print(\"Filtered Tokens:\", filtered_tokens)\n",
    "print(\"Stemmed Tokens:\", stemmed_tokens)\n",
    "print(\"Lemmatized Tokens:\", lemmatized_tokens)\n",
    "print(\"Bigrams:\", bigrams)\n",
    "print(\"Trigrams:\", trigrams)\n"
   ]
  },
  {
   "cell_type": "markdown",
   "id": "1ca19f0d84be71cc",
   "metadata": {
    "collapsed": false
   },
   "source": [
    "# Things for you to try...\n",
    "1. Can you add additional custom stop words? How would you test it?\n",
    "2. Try a few different input to test the differences between Stemming and Lemmatization\n",
    "3. Try different stemming algorithms: See NLTK documentation"
   ]
  },
  {
   "cell_type": "code",
   "id": "d4b69aa40dce8a9e",
   "metadata": {
    "collapsed": false
   },
   "outputs": [],
   "source": []
  }
 ],
 "metadata": {
  "kernelspec": {
   "display_name": "Python 3",
   "language": "python",
   "name": "python3"
  },
  "language_info": {
   "codemirror_mode": {
    "name": "ipython",
    "version": 2
   },
   "file_extension": ".py",
   "mimetype": "text/x-python",
   "name": "python",
   "nbconvert_exporter": "python",
   "pygments_lexer": "ipython2",
   "version": "2.7.6"
  }
 },
 "nbformat": 4,
 "nbformat_minor": 5
}
