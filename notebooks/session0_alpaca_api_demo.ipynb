{
 "cells": [
  {
   "cell_type": "markdown",
   "id": "1f4dec1c19ea2b33",
   "metadata": {
    "collapsed": false,
    "jupyter": {
     "outputs_hidden": false
    }
   },
   "source": [
    "# MGTA 415 - Session 0 Demo: A simple example of paper trading with Alpaca API\n",
    "\n",
    "This notebook demonstrates how to use the Alpaca API to pull real-time news, analyze sentiment, and make trading decisions based on the sentiment analysis."
   ]
  },
  {
   "cell_type": "markdown",
   "id": "c3ff24aad07b0e2a",
   "metadata": {
    "collapsed": false,
    "jupyter": {
     "outputs_hidden": false
    }
   },
   "source": [
    "## Step 1: Import Libraries\n",
    "\n",
    "First, we'll import the necessary libraries and import the secrets. \n",
    "This assumes the secrets are already added in .env file.  Everytime you update the .env file you'll need to rebuild the container."
   ]
  },
  {
   "cell_type": "code",
   "execution_count": 1,
   "id": "f256795ac8150ca8",
   "metadata": {
    "collapsed": false,
    "jupyter": {
     "outputs_hidden": false
    }
   },
   "outputs": [],
   "source": [
    "# Run this !pip command if you can't get the course Docker image to work\n",
    "# !pip install alpaca_trade_api vaderSentiment"
   ]
  },
  {
   "cell_type": "code",
   "execution_count": 2,
   "id": "initial_id",
   "metadata": {},
   "outputs": [],
   "source": [
    "import os\n",
    "import alpaca_trade_api as tradeapi\n",
    "from vaderSentiment.vaderSentiment import SentimentIntensityAnalyzer\n",
    "from datetime import datetime, timedelta\n",
    "import requests"
   ]
  },
  {
   "cell_type": "code",
   "execution_count": 3,
   "id": "377e8ad9-9da2-4111-8f52-64b33dd3e7c7",
   "metadata": {},
   "outputs": [],
   "source": [
    "ALPACA_URL = 'https://paper-api.alpaca.markets'\n",
    "SYMBOLS = [\"AAPL\"]"
   ]
  },
  {
   "cell_type": "code",
   "execution_count": 4,
   "id": "8bb9f68e-70e8-4c51-8fab-f3905d40a570",
   "metadata": {},
   "outputs": [],
   "source": [
    "# Alpaca API credentials\n",
    "ALPACA_API_KEY = os.getenv('ALPACA_API_KEY')\n",
    "ALPACA_SECRET_KEY = os.getenv('ALPACA_SECRET_KEY')\n",
    "\n",
    "# Initialize Alpaca API\n",
    "alpaca = tradeapi.REST(ALPACA_API_KEY, ALPACA_SECRET_KEY, base_url=ALPACA_URL)\n",
    "\n",
    "# Initialize Sentiment Analyzer\n",
    "sentiment_analyzer = SentimentIntensityAnalyzer()"
   ]
  },
  {
   "cell_type": "markdown",
   "id": "cae4d429-3063-4958-be8a-e28fb3ecd5a1",
   "metadata": {},
   "source": [
    "## Step 2: Retrieve News from Previous Day\n",
    "\n",
    "We'll retrieve news articles from the previous day using Alpaca's API.\n"
   ]
  },
  {
   "cell_type": "code",
   "execution_count": 5,
   "id": "3e4d385bd91a4e0d",
   "metadata": {
    "collapsed": false,
    "jupyter": {
     "outputs_hidden": false
    }
   },
   "outputs": [],
   "source": [
    "# Function to retrieve news from the previous day for specific symbols\n",
    "def get_previous_day_news(symbols):\n",
    "    today = datetime.utcnow()\n",
    "    yesterday = today - timedelta(days=1)\n",
    "    url = \"https://data.alpaca.markets/v1beta1/news\"\n",
    "    headers = {\n",
    "        \"APCA-API-KEY-ID\": ALPACA_API_KEY,\n",
    "        \"APCA-API-SECRET-KEY\": ALPACA_SECRET_KEY\n",
    "    }\n",
    "    params = {\n",
    "        \"symbols\": \",\".join(symbols),\n",
    "        \"start\": yesterday.strftime('%Y-%m-%dT%H:%M:%SZ'),\n",
    "        \"end\": today.strftime('%Y-%m-%dT%H:%M:%SZ'),\n",
    "        \"limit\": 50\n",
    "    }\n",
    "    response = requests.get(url, headers=headers, params=params)\n",
    "    response.raise_for_status()\n",
    "    return response.json()['news']\n",
    "\n",
    "# Retrieve news for specific symbols\n",
    "news = get_previous_day_news(SYMBOLS)\n"
   ]
  },
  {
   "cell_type": "markdown",
   "id": "c5292571-ec93-4ea2-bb62-cc611ece87c0",
   "metadata": {},
   "source": [
    "## Step 3: Analyze Sentiment and Make Trading Decisions\n",
    "\n",
    "We'll analyze the sentiment of the news articles and make trading decisions based on the sentiment scores.\n"
   ]
  },
  {
   "cell_type": "code",
   "execution_count": 6,
   "id": "d88678c681dab4a",
   "metadata": {
    "collapsed": false,
    "jupyter": {
     "outputs_hidden": false
    }
   },
   "outputs": [],
   "source": [
    "# Function to analyze sentiment and make trading decisions\n",
    "def analyze_and_trade(news):\n",
    "    for article in news:\n",
    "        headline = article['headline']\n",
    "        summary = article.get('summary', '')\n",
    "        content = article.get('content', '')\n",
    "        combined_text = f\"{headline} {summary} {content}\"\n",
    "        \n",
    "        sentiment = sentiment_analyzer.polarity_scores(combined_text)\n",
    "        sentiment_score = sentiment['compound']\n",
    "        \n",
    "        print(f\"Headline: {headline}\")\n",
    "        print(f\"Sentiment Score: {sentiment_score}\")\n",
    "        \n",
    "        symbols = article['symbols']\n",
    "        for symbol in symbols:\n",
    "            if sentiment_score > 0.05:\n",
    "                make_trade_decision(symbol, 'buy')\n",
    "            elif sentiment_score < -0.05:\n",
    "                make_trade_decision(symbol, 'sell')"
   ]
  },
  {
   "cell_type": "code",
   "execution_count": 7,
   "id": "c420f084-5c14-4868-a7c4-52f62ca62beb",
   "metadata": {},
   "outputs": [
    {
     "name": "stdout",
     "output_type": "stream",
     "text": [
      "Headline: Market Clubhouse Morning Memo - August 1st, 2024 (Trade Strategy For SPY, QQQ, AAPL, MSFT, NVDA, GOOGL, META And TSLA)\n",
      "Sentiment Score: 0.4926\n",
      "Buying 10 shares of AAPL\n",
      "Buying 10 shares of GOOGL\n",
      "Buying 10 shares of META\n",
      "Buying 10 shares of MSFT\n",
      "Buying 10 shares of NVDA\n",
      "Buying 10 shares of QQQ\n",
      "Buying 10 shares of SPY\n",
      "Buying 10 shares of TSLA\n",
      "Headline: Benzinga Market Summary: Initial Jobless Claims Come In Higher Than Expected, Moderna Shares Drop Following Revised Expectations, Meta Jumps After Strong Earnings, Apple And Amazon To Report After Market Close\n",
      "Sentiment Score: 0.6249\n",
      "Buying 10 shares of AAPL\n",
      "Buying 10 shares of AMZN\n",
      "Error placing order: insufficient qty available for order (requested: 10, available: 0)\n",
      "Buying 10 shares of MRNA\n",
      "Error placing order: insufficient qty available for order (requested: 10, available: 0)\n",
      "Headline: Top 10 Trending Stocks On WallStreetBets As Of August 1, 2024 (Via Swaggy Stocks)\n",
      "Sentiment Score: 0.2023\n",
      "Error placing order: insufficient qty available for order (requested: 10, available: 0)\n",
      "Buying 10 shares of AI\n",
      "Buying 10 shares of AMD\n",
      "Buying 10 shares of AMZN\n",
      "Buying 10 shares of LOT\n",
      "Buying 10 shares of MADE\n",
      "Error placing order: insufficient qty available for order (requested: 10, available: 0)\n",
      "Buying 10 shares of NVDA\n",
      "Buying 10 shares of QQQ\n",
      "Buying 10 shares of WAY\n",
      "Headline: Will Apple Lay The Case For Easing Into AI Superhighway? Analysts Expect iPhone Maker's Q3 Results To Signal Inflection In Topline Growth\n",
      "Sentiment Score: 0.5574\n",
      "Buying 10 shares of AAPL\n",
      "Buying 10 shares of QQQ\n",
      "Error placing order: insufficient qty available for order (requested: 10, available: 0)\n",
      "Error placing order: asset XIACF is not active\n",
      "Headline: Taiwan Semi Triggers Retail Investor Rally - What's Going On?\n",
      "Sentiment Score: 0.8689\n",
      "Buying 10 shares of AAPL\n",
      "Buying 10 shares of NVDA\n",
      "Buying 10 shares of SOXX\n",
      "Buying 10 shares of TDIV\n",
      "Buying 10 shares of TSM\n",
      "Headline: How To Earn $500 A Month From Apple Stock Ahead Of Q3 Earnings\n",
      "Sentiment Score: 0.4767\n",
      "Buying 10 shares of AAPL\n",
      "Headline: Wall Street Looks To Ride On Earnings Cheer As Meta Q2 Impresses Investors: Analyst Says Economic Data, Stock Performances Suggest Republican Win In November\n",
      "Sentiment Score: 0.9118\n",
      "Buying 10 shares of AAPL\n",
      "Buying 10 shares of AMZN\n",
      "Buying 10 shares of ARM\n",
      "Buying 10 shares of BBAI\n",
      "Buying 10 shares of BHC\n",
      "Buying 10 shares of BIIB\n",
      "Buying 10 shares of BKNG\n",
      "Error placing order: order cost basis must not exceed the notional limit of $200000\n",
      "Buying 10 shares of BUD\n",
      "Buying 10 shares of BZH\n",
      "Buying 10 shares of CHRW\n",
      "Buying 10 shares of CI\n",
      "Buying 10 shares of CLX\n",
      "Buying 10 shares of COIN\n",
      "Buying 10 shares of COP\n",
      "Buying 10 shares of CVNA\n",
      "Buying 10 shares of D\n",
      "Buying 10 shares of DKNG\n",
      "Buying 10 shares of EVGO\n",
      "Buying 10 shares of HSY\n",
      "Buying 10 shares of HTZ\n",
      "Buying 10 shares of INTC\n",
      "Buying 10 shares of MBLY\n",
      "Buying 10 shares of MCHP\n",
      "Buying 10 shares of META\n",
      "Buying 10 shares of MSTR\n",
      "Buying 10 shares of NET\n",
      "Buying 10 shares of OPEN\n",
      "Buying 10 shares of QQQ\n",
      "Buying 10 shares of REGN\n",
      "Buying 10 shares of RNG\n",
      "Buying 10 shares of ROKU\n",
      "Buying 10 shares of SIRI\n",
      "Buying 10 shares of SPY\n",
      "Buying 10 shares of SQ\n",
      "Buying 10 shares of TDOC\n",
      "Buying 10 shares of TWLO\n",
      "Buying 10 shares of VRTX\n",
      "Buying 10 shares of W\n",
      "Buying 10 shares of X\n",
      "Headline: New EU AI Act Takes Effect: Here's How Apple, Meta, Google, And Other US Tech Titans Will Be Impacted\n",
      "Sentiment Score: -0.6705\n",
      "Selling 10 shares of AAPL\n",
      "Selling 10 shares of GOOG\n",
      "Selling 10 shares of GOOGL\n",
      "Selling 10 shares of META\n",
      "Headline: Nasdaq Settles Higher As Nvidia Records Best Session Since February: Fear & Greed Index Now In 'Neutral' Zone As Investor Sentiment Improves\n",
      "Sentiment Score: 0.2732\n",
      "Error placing order: potential wash trade detected. use complex orders\n",
      "Buying 10 shares of AMZN\n",
      "Buying 10 shares of BA\n",
      "Buying 10 shares of INTC\n",
      "Buying 10 shares of MSFT\n",
      "Buying 10 shares of NVDA\n",
      "Headline: Apple, Meta Platforms And 3 Stocks To Watch Heading Into Thursday\n",
      "Sentiment Score: 0.0\n",
      "Headline: Mark Zuckerberg Underscores Importance Of Meta's Partnerships With Nvidia, Microsoft, Google, And Amazon To Propel Llama AI To The Cloud\n",
      "Sentiment Score: 0.6486\n",
      "Error placing order: potential wash trade detected. use complex orders\n",
      "Buying 10 shares of AMZN\n",
      "Buying 10 shares of GOOG\n",
      "Error placing order: potential wash trade detected. use complex orders\n",
      "Error placing order: potential wash trade detected. use complex orders\n",
      "Error placing order: insufficient buying power\n",
      "Buying 10 shares of NVDA\n",
      "Headline: Mark Zuckerberg Aims For AI Assistant Dominance Over Siri, Alexa, And ChatGPT, Seeks Market Leadership By 'End Of The Year'\n",
      "Sentiment Score: 0.6249\n",
      "Buying 10 shares of AAPL\n",
      "Error placing order: insufficient buying power\n",
      "Error placing order: insufficient buying power\n",
      "Error placing order: potential wash trade detected. use complex orders\n",
      "Error placing order: potential wash trade detected. use complex orders\n",
      "Error placing order: insufficient buying power\n",
      "Headline: 10 Information Technology Stocks Whale Activity In Today's Session\n",
      "Sentiment Score: 0.0\n",
      "Headline: Oversold Condition And China Loophole Overpower Microsoft Miss And Japan Rate Hike\n",
      "Sentiment Score: 0.4215\n",
      "Error placing order: insufficient buying power\n",
      "Buying 10 shares of AMD\n",
      "Error placing order: insufficient buying power\n",
      "Error placing order: insufficient buying power\n",
      "Error placing order: order cost basis must not exceed the notional limit of $200000\n",
      "Error placing order: insufficient buying power\n",
      "Error placing order: insufficient buying power\n",
      "Error placing order: insufficient buying power\n",
      "Error placing order: insufficient buying power\n",
      "Error placing order: insufficient buying power\n",
      "Error placing order: insufficient buying power\n",
      "Error placing order: insufficient buying power\n",
      "Buying 10 shares of SLV\n",
      "Error placing order: insufficient buying power\n",
      "Error placing order: insufficient buying power\n",
      "Error placing order: insufficient buying power\n",
      "Error placing order: insufficient buying power\n"
     ]
    }
   ],
   "source": [
    "# Function to make trading decisions\n",
    "def make_trade_decision(symbol, action):\n",
    "    qty = 10  # Example quantity\n",
    "    \n",
    "    try:\n",
    "        if action == 'buy':\n",
    "            alpaca.submit_order(\n",
    "                symbol=symbol,\n",
    "                qty=qty,\n",
    "                side='buy',\n",
    "                type='market',\n",
    "                time_in_force='gtc'\n",
    "            )\n",
    "            print(f\"Buying {qty} shares of {symbol}\")\n",
    "        elif action == 'sell':\n",
    "            alpaca.submit_order(\n",
    "                symbol=symbol,\n",
    "                qty=qty,\n",
    "                side='sell',\n",
    "                type='market',\n",
    "                time_in_force='gtc'\n",
    "            )\n",
    "            print(f\"Selling {qty} shares of {symbol}\")\n",
    "    except Exception as e:\n",
    "        print(f\"Error placing order: {e}\")\n",
    "\n",
    "\n",
    "# Analyze and trade based on the news\n",
    "analyze_and_trade(news)"
   ]
  },
  {
   "cell_type": "code",
   "execution_count": null,
   "id": "5b4f0153-f159-4666-801d-44e27fb42531",
   "metadata": {},
   "outputs": [],
   "source": []
  }
 ],
 "metadata": {
  "kernelspec": {
   "display_name": "Python 3 (ipykernel)",
   "language": "python",
   "name": "python3"
  },
  "language_info": {
   "codemirror_mode": {
    "name": "ipython",
    "version": 3
   },
   "file_extension": ".py",
   "mimetype": "text/x-python",
   "name": "python",
   "nbconvert_exporter": "python",
   "pygments_lexer": "ipython3",
   "version": "3.10.12"
  }
 },
 "nbformat": 4,
 "nbformat_minor": 5
}
