{
 "cells": [
  {
   "cell_type": "markdown",
   "id": "1f4dec1c19ea2b33",
   "metadata": {
    "collapsed": false,
    "jupyter": {
     "outputs_hidden": false
    }
   },
   "source": [
    "# MGTA 415 - Session 0 Demo: A simple example of paper trading with Alpaca API\n",
    "\n",
    "This notebook demonstrates how to use the Alpaca API to pull real-time news, analyze sentiment, and make trading decisions based on the sentiment analysis.\n",
    "\n",
    "## Step 1: Import Libraries\n",
    "\n",
    "First, we'll import the necessary libraries and import the secrets. \n",
    "This assumes the secrets are already added in .env file.  Everytime you update the .env file you'll need to rebuild the container."
   ]
  },
  {
   "cell_type": "code",
   "execution_count": 1,
   "id": "initial_id",
   "metadata": {},
   "outputs": [],
   "source": [
    "import os\n",
    "import alpaca_trade_api as tradeapi\n",
    "from vaderSentiment.vaderSentiment import SentimentIntensityAnalyzer\n",
    "from datetime import datetime, timedelta\n",
    "import requests"
   ]
  },
  {
   "cell_type": "code",
   "execution_count": 2,
   "id": "377e8ad9-9da2-4111-8f52-64b33dd3e7c7",
   "metadata": {},
   "outputs": [],
   "source": [
    "ALPACA_URL = 'https://paper-api.alpaca.markets'\n",
    "SYMBOLS = [\"AAPL\"]"
   ]
  },
  {
   "cell_type": "code",
   "execution_count": 3,
   "id": "8bb9f68e-70e8-4c51-8fab-f3905d40a570",
   "metadata": {},
   "outputs": [],
   "source": [
    "# Alpaca API credentials\n",
    "ALPACA_API_KEY = os.getenv('ALPACA_API_KEY')\n",
    "ALPACA_SECRET_KEY = os.getenv('ALPACA_SECRET_KEY')\n",
    "\n",
    "# Initialize Alpaca API\n",
    "alpaca = tradeapi.REST(ALPACA_API_KEY, ALPACA_SECRET_KEY, base_url=ALPACA_URL)\n",
    "\n",
    "# Initialize Sentiment Analyzer\n",
    "sentiment_analyzer = SentimentIntensityAnalyzer()"
   ]
  },
  {
   "cell_type": "markdown",
   "id": "cae4d429-3063-4958-be8a-e28fb3ecd5a1",
   "metadata": {},
   "source": [
    "## Step 2: Retrieve News from Previous Day\n",
    "\n",
    "We'll retrieve news articles from the previous day using Alpaca's API.\n"
   ]
  },
  {
   "cell_type": "code",
   "execution_count": 4,
   "id": "3e4d385bd91a4e0d",
   "metadata": {
    "collapsed": false,
    "jupyter": {
     "outputs_hidden": false
    }
   },
   "outputs": [],
   "source": [
    "# Function to retrieve news from the previous day for specific symbols\n",
    "def get_previous_day_news(symbols):\n",
    "    today = datetime.utcnow()\n",
    "    yesterday = today - timedelta(days=1)\n",
    "    url = \"https://data.alpaca.markets/v1beta1/news\"\n",
    "    headers = {\n",
    "        \"APCA-API-KEY-ID\": ALPACA_API_KEY,\n",
    "        \"APCA-API-SECRET-KEY\": ALPACA_SECRET_KEY\n",
    "    }\n",
    "    params = {\n",
    "        \"symbols\": \",\".join(symbols),\n",
    "        \"start\": yesterday.strftime('%Y-%m-%dT%H:%M:%SZ'),\n",
    "        \"end\": today.strftime('%Y-%m-%dT%H:%M:%SZ'),\n",
    "        \"limit\": 50\n",
    "    }\n",
    "    response = requests.get(url, headers=headers, params=params)\n",
    "    response.raise_for_status()\n",
    "    return response.json()['news']\n",
    "\n",
    "# Retrieve news for specific symbols\n",
    "news = get_previous_day_news(SYMBOLS)\n"
   ]
  },
  {
   "cell_type": "markdown",
   "id": "c5292571-ec93-4ea2-bb62-cc611ece87c0",
   "metadata": {},
   "source": [
    "## Step 3: Analyze Sentiment and Make Trading Decisions\n",
    "\n",
    "We'll analyze the sentiment of the news articles and make trading decisions based on the sentiment scores.\n"
   ]
  },
  {
   "cell_type": "code",
   "execution_count": 6,
   "id": "d88678c681dab4a",
   "metadata": {
    "collapsed": false,
    "jupyter": {
     "outputs_hidden": false
    }
   },
   "outputs": [],
   "source": [
    "# Function to analyze sentiment and make trading decisions\n",
    "def analyze_and_trade(news):\n",
    "    for article in news:\n",
    "        headline = article['headline']\n",
    "        summary = article.get('summary', '')\n",
    "        content = article.get('content', '')\n",
    "        combined_text = f\"{headline} {summary} {content}\"\n",
    "        \n",
    "        sentiment = sentiment_analyzer.polarity_scores(combined_text)\n",
    "        sentiment_score = sentiment['compound']\n",
    "        \n",
    "        print(f\"Headline: {headline}\")\n",
    "        print(f\"Sentiment Score: {sentiment_score}\")\n",
    "        \n",
    "        symbols = article['symbols']\n",
    "        for symbol in symbols:\n",
    "            if sentiment_score > 0.05:\n",
    "                make_trade_decision(symbol, 'buy')\n",
    "            elif sentiment_score < -0.05:\n",
    "                make_trade_decision(symbol, 'sell')"
   ]
  },
  {
   "cell_type": "code",
   "execution_count": 7,
   "id": "c420f084-5c14-4868-a7c4-52f62ca62beb",
   "metadata": {},
   "outputs": [
    {
     "name": "stdout",
     "output_type": "stream",
     "text": [
      "Headline: Inflation Drop Fuels Rate Cut Speculation, Investors Shift To Sector Laggards, Russell 2000 Surges Over 3.6%: This Week In The Markets\n",
      "Sentiment Score: -0.6369\n",
      "Selling 10 shares of AAPL\n",
      "Selling 10 shares of GOOGL\n",
      "Selling 10 shares of IWM\n",
      "Selling 10 shares of META\n",
      "Selling 10 shares of MSFT\n",
      "Selling 10 shares of PFE\n",
      "Selling 10 shares of RSP\n",
      "Selling 10 shares of SPY\n",
      "Selling 10 shares of XLRE\n",
      "Headline: AI Super Bulls Pay Attention To The Biggest Divergence Since 2001, TSLA Call Buyers Crushed\n",
      "Sentiment Score: 0.6249\n",
      "Error placing order: potential wash trade detected. use complex orders\n",
      "Buying 10 shares of AMZN\n",
      "Error placing order: order cost basis must not exceed the notional limit of $200000\n",
      "Buying 10 shares of C\n",
      "Buying 10 shares of FAST\n",
      "Buying 10 shares of GLD\n",
      "Buying 10 shares of GOOG\n",
      "Error placing order: potential wash trade detected. use complex orders\n",
      "Buying 10 shares of JPM\n",
      "Buying 10 shares of KBH\n",
      "Error placing order: potential wash trade detected. use complex orders\n",
      "Error placing order: potential wash trade detected. use complex orders\n",
      "Buying 10 shares of NVDA\n",
      "Buying 10 shares of QQQ\n",
      "Buying 10 shares of SLV\n",
      "Buying 10 shares of SMH\n",
      "Error placing order: potential wash trade detected. use complex orders\n",
      "Buying 10 shares of TSLA\n",
      "Buying 10 shares of USO\n",
      "Buying 10 shares of WFC\n",
      "Headline: 10 Information Technology Stocks Whale Activity In Today's Session\n",
      "Sentiment Score: 0.0\n",
      "Headline: On CNBC, Kevin Simpson Announced Sold Apple Covered Calls\n",
      "Sentiment Score: 0.0\n",
      "Headline: Top 10 Trending Stocks On WallStreetBets As Of July 12 2024 (Via Swaggy Stocks)\n",
      "Sentiment Score: 0.2023\n",
      "Error placing order: potential wash trade detected. use complex orders\n",
      "Buying 10 shares of AI\n",
      "Buying 10 shares of BABA\n",
      "Buying 10 shares of JPM\n",
      "Buying 10 shares of LOT\n",
      "Error placing order: potential wash trade detected. use complex orders\n",
      "Buying 10 shares of NVDA\n",
      "Buying 10 shares of QQQ\n",
      "Buying 10 shares of TSLA\n",
      "Buying 10 shares of WAY\n",
      "Headline: Apple's 'Find My' Feature: The Brainchild Of An Intern\n",
      "Sentiment Score: 0.1232\n",
      "Error placing order: potential wash trade detected. use complex orders\n",
      "Headline: Apple's Vision Pro Struggles To Find Its 'Killer App' To Justify $3,500 Price Tag: 'Just Not Quite Hit The Imagination Of The Consumer,' Says Analyst\n",
      "Sentiment Score: -0.5859\n",
      "Selling 10 shares of AAPL\n",
      "Headline: Two Months After Mark Zuckerberg Threw Shade At Vision Pro, Analyst Says Apple's VR Glasses Will Fall Short Of 500K Units In 2024, Half Of Tim Cook's Initial 1M Target\n",
      "Sentiment Score: 0.4588\n",
      "Error placing order: potential wash trade detected. use complex orders\n",
      "Headline: Yardeni Raises S&P 500 Year-End Target To 5,800, Hints At Faster-Than-Expected Discounting Of 'Roaring 2020s Scenario'\n",
      "Sentiment Score: 0.0\n"
     ]
    }
   ],
   "source": [
    "# Function to make trading decisions\n",
    "def make_trade_decision(symbol, action):\n",
    "    qty = 10  # Example quantity\n",
    "    \n",
    "    try:\n",
    "        if action == 'buy':\n",
    "            alpaca.submit_order(\n",
    "                symbol=symbol,\n",
    "                qty=qty,\n",
    "                side='buy',\n",
    "                type='market',\n",
    "                time_in_force='gtc'\n",
    "            )\n",
    "            print(f\"Buying {qty} shares of {symbol}\")\n",
    "        elif action == 'sell':\n",
    "            alpaca.submit_order(\n",
    "                symbol=symbol,\n",
    "                qty=qty,\n",
    "                side='sell',\n",
    "                type='market',\n",
    "                time_in_force='gtc'\n",
    "            )\n",
    "            print(f\"Selling {qty} shares of {symbol}\")\n",
    "    except Exception as e:\n",
    "        print(f\"Error placing order: {e}\")\n",
    "\n",
    "\n",
    "# Analyze and trade based on the news\n",
    "analyze_and_trade(news)"
   ]
  },
  {
   "cell_type": "code",
   "execution_count": null,
   "id": "5b4f0153-f159-4666-801d-44e27fb42531",
   "metadata": {},
   "outputs": [],
   "source": []
  }
 ],
 "metadata": {
  "kernelspec": {
   "display_name": "Python 3 (ipykernel)",
   "language": "python",
   "name": "python3"
  },
  "language_info": {
   "codemirror_mode": {
    "name": "ipython",
    "version": 3
   },
   "file_extension": ".py",
   "mimetype": "text/x-python",
   "name": "python",
   "nbconvert_exporter": "python",
   "pygments_lexer": "ipython3",
   "version": "3.10.12"
  }
 },
 "nbformat": 4,
 "nbformat_minor": 5
}
