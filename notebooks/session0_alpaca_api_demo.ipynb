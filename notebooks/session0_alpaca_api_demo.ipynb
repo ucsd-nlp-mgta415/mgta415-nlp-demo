{
 "cells": [
  {
   "cell_type": "markdown",
   "source": [
    "# MGTA 415 - Session 0 Demo: A simple example of paper trading with Alpaca API"
   ],
   "metadata": {
    "collapsed": false
   },
   "id": "1f4dec1c19ea2b33"
  },
  {
   "cell_type": "code",
   "execution_count": null,
   "id": "initial_id",
   "metadata": {
    "collapsed": true
   },
   "outputs": [],
   "source": [
    "import alpaca_trade_api as tradeapi\n",
    "from vaderSentiment.vaderSentiment import SentimentIntensityAnalyzer\n",
    "import asyncio\n",
    "import websockets\n",
    "import json\n",
    "import os\n",
    "\n",
    "# Alpaca API setup\n",
    "alpaca_api_key = os.environ.get('ALPACA_API_KEY')\n",
    "alpaca_secret_key = os.environ.get('ALPACA_SECRET_KEY')\n",
    "base_url = 'https://paper-api.alpaca.markets/v2'\n",
    "\n",
    "alpaca = tradeapi.REST(alpaca_api_key, alpaca_secret_key, base_url, api_version='v2')\n",
    "\n",
    "# Sentiment analyzer\n",
    "sentiment_analyzer = SentimentIntensityAnalyzer()\n",
    "\n",
    "# WebSocket URL for real-time news\n",
    "news_stream_url = \"wss://stream.data.alpaca.markets/v1beta1/news\""
   ]
  },
  {
   "cell_type": "code",
   "outputs": [],
   "source": [
    "async def news_handler():\n",
    "    async with websockets.connect(news_stream_url) as websocket:\n",
    "        # Authenticate\n",
    "        auth_data = {\n",
    "            \"action\": \"auth\",\n",
    "            \"key\": alpaca_api_key,\n",
    "            \"secret\": alpaca_secret_key\n",
    "        }\n",
    "        await websocket.send(json.dumps(auth_data))\n",
    "        \n",
    "        # Subscribe to news\n",
    "        subscribe_data = {\n",
    "            \"action\": \"subscribe\",\n",
    "            \"news\": [\"*\"]\n",
    "        }\n",
    "        await websocket.send(json.dumps(subscribe_data))\n",
    "        \n",
    "        while True:\n",
    "            response = await websocket.recv()\n",
    "            data = json.loads(response)\n",
    "            if data.get('T') == 'n':  # Check if the message type is 'n' for news\n",
    "                analyze_and_trade(data)\n",
    "\n",
    "def analyze_and_trade(data):\n",
    "    headline = data['headline']\n",
    "    summary = data.get('summary', '')\n",
    "    content = data.get('content', '')\n",
    "    combined_text = f\"{headline} {summary} {content}\"\n",
    "    \n",
    "    sentiment = sentiment_analyzer.polarity_scores(combined_text)\n",
    "    sentiment_score = sentiment['compound']\n",
    "    \n",
    "    print(f\"Headline: {headline}\")\n",
    "    print(f\"Sentiment Score: {sentiment_score}\")\n",
    "    \n",
    "    if sentiment_score > 0.05:\n",
    "        make_trade_decision('buy')\n",
    "    elif sentiment_score < -0.05:\n",
    "        make_trade_decision('sell')\n",
    "\n",
    "def make_trade_decision(action):\n",
    "    stock = 'AAPL'  # Example stock\n",
    "    qty = 10  # Example quantity\n",
    "    \n",
    "    try:\n",
    "        if action == 'buy':\n",
    "            alpaca.submit_order(\n",
    "                symbol=stock,\n",
    "                qty=qty,\n",
    "                side='buy',\n",
    "                type='market',\n",
    "                time_in_force='gtc'\n",
    "            )\n",
    "            print(f\"Buying {qty} shares of {stock}\")\n",
    "        elif action == 'sell':\n",
    "            alpaca.submit_order(\n",
    "                symbol=stock,\n",
    "                qty=qty,\n",
    "                side='sell',\n",
    "                type='market',\n",
    "                time_in_force='gtc'\n",
    "            )\n",
    "            print(f\"Selling {qty} shares of {stock}\")\n",
    "    except Exception as e:\n",
    "        print(f\"Error placing order: {e}\")\n"
   ],
   "metadata": {
    "collapsed": false
   },
   "id": "3e4d385bd91a4e0d"
  },
  {
   "cell_type": "code",
   "outputs": [],
   "source": [
    "# Run the WebSocket news handler\n",
    "asyncio.get_event_loop().run_until_complete(news_handler())"
   ],
   "metadata": {
    "collapsed": false
   },
   "id": "d88678c681dab4a"
  }
 ],
 "metadata": {
  "kernelspec": {
   "display_name": "Python 3",
   "language": "python",
   "name": "python3"
  },
  "language_info": {
   "codemirror_mode": {
    "name": "ipython",
    "version": 2
   },
   "file_extension": ".py",
   "mimetype": "text/x-python",
   "name": "python",
   "nbconvert_exporter": "python",
   "pygments_lexer": "ipython2",
   "version": "2.7.6"
  }
 },
 "nbformat": 4,
 "nbformat_minor": 5
}
