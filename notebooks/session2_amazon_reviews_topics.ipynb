{
 "cells": [
  {
   "cell_type": "markdown",
   "id": "1e4d4d55cf28344e",
   "metadata": {
    "collapsed": false,
    "jupyter": {
     "outputs_hidden": false
    }
   },
   "source": [
    "# Sentiment Analysis for Amazon Reviews\n",
    "\n",
    "In this notebook, we will perform sentiment analysis on Amazon reviews using a Naive Bayes classifier. \n",
    "We will follow these steps:\n",
    "\n",
    "1. Load the dataset.\n",
    "2. Preprocess the text data.\n",
    "3. Train a sentiment classification model.\n",
    "4. Evaluate the model.\n",
    "5. Visualize the results.\n",
    "\n",
    "Note: The amazon_reviews.tsv dataset here is a trimmed down dataset.  You can get more Amazon Review datasets from here: https://www.kaggle.com/datasets/cynthiarempel/amazon-us-customer-reviews-dataset/data"
   ]
  },
  {
   "cell_type": "code",
   "execution_count": 1,
   "id": "eec4490c-fcc2-4a2d-aaba-1d225dd99e43",
   "metadata": {},
   "outputs": [],
   "source": [
    "# Run this cell if you cannot get docker to work. \n",
    "# !pip install pandas scikit-learn mlxtend transformers matplotlib seaborn pyLDAvis"
   ]
  },
  {
   "cell_type": "code",
   "execution_count": 2,
   "id": "8c0222ad21c6fdc6",
   "metadata": {
    "ExecuteTime": {
     "end_time": "2024-07-20T21:59:37.970552800Z",
     "start_time": "2024-07-20T21:59:32.538607500Z"
    },
    "collapsed": false,
    "jupyter": {
     "outputs_hidden": false
    }
   },
   "outputs": [
    {
     "data": {
      "text/html": [
       "<div>\n",
       "<style scoped>\n",
       "    .dataframe tbody tr th:only-of-type {\n",
       "        vertical-align: middle;\n",
       "    }\n",
       "\n",
       "    .dataframe tbody tr th {\n",
       "        vertical-align: top;\n",
       "    }\n",
       "\n",
       "    .dataframe thead th {\n",
       "        text-align: right;\n",
       "    }\n",
       "</style>\n",
       "<table border=\"1\" class=\"dataframe\">\n",
       "  <thead>\n",
       "    <tr style=\"text-align: right;\">\n",
       "      <th></th>\n",
       "      <th>marketplace</th>\n",
       "      <th>customer_id</th>\n",
       "      <th>review_id</th>\n",
       "      <th>product_id</th>\n",
       "      <th>product_parent</th>\n",
       "      <th>product_title</th>\n",
       "      <th>product_category</th>\n",
       "      <th>star_rating</th>\n",
       "      <th>helpful_votes</th>\n",
       "      <th>total_votes</th>\n",
       "      <th>vine</th>\n",
       "      <th>verified_purchase</th>\n",
       "      <th>review_headline</th>\n",
       "      <th>review_body</th>\n",
       "      <th>review_date</th>\n",
       "    </tr>\n",
       "  </thead>\n",
       "  <tbody>\n",
       "    <tr>\n",
       "      <th>0</th>\n",
       "      <td>US</td>\n",
       "      <td>20422322</td>\n",
       "      <td>R8MEA6IGAHO0B</td>\n",
       "      <td>B00MC4CED8</td>\n",
       "      <td>217304173</td>\n",
       "      <td>BlackVue DR600GW-PMP</td>\n",
       "      <td>Mobile_Electronics</td>\n",
       "      <td>5</td>\n",
       "      <td>0</td>\n",
       "      <td>0</td>\n",
       "      <td>N</td>\n",
       "      <td>Y</td>\n",
       "      <td>Very Happy!</td>\n",
       "      <td>As advertised. Everything works perfectly, I'm...</td>\n",
       "      <td>2015-08-31</td>\n",
       "    </tr>\n",
       "    <tr>\n",
       "      <th>1</th>\n",
       "      <td>US</td>\n",
       "      <td>40835037</td>\n",
       "      <td>R31LOQ8JGLPRLK</td>\n",
       "      <td>B00OQMFG1Q</td>\n",
       "      <td>137313254</td>\n",
       "      <td>GENSSI GSM / GPS Two Way Smart Phone Car Alarm...</td>\n",
       "      <td>Mobile_Electronics</td>\n",
       "      <td>5</td>\n",
       "      <td>0</td>\n",
       "      <td>1</td>\n",
       "      <td>N</td>\n",
       "      <td>Y</td>\n",
       "      <td>five star</td>\n",
       "      <td>it's great</td>\n",
       "      <td>2015-08-31</td>\n",
       "    </tr>\n",
       "    <tr>\n",
       "      <th>2</th>\n",
       "      <td>US</td>\n",
       "      <td>51469641</td>\n",
       "      <td>R2Y0MM9YE6OP3P</td>\n",
       "      <td>B00QERR5CY</td>\n",
       "      <td>82850235</td>\n",
       "      <td>iXCC Multi pack Lightning cable</td>\n",
       "      <td>Mobile_Electronics</td>\n",
       "      <td>5</td>\n",
       "      <td>0</td>\n",
       "      <td>0</td>\n",
       "      <td>N</td>\n",
       "      <td>Y</td>\n",
       "      <td>great cables</td>\n",
       "      <td>These work great and fit my life proof case fo...</td>\n",
       "      <td>2015-08-31</td>\n",
       "    </tr>\n",
       "    <tr>\n",
       "      <th>3</th>\n",
       "      <td>US</td>\n",
       "      <td>4332923</td>\n",
       "      <td>RRB9C05HDOD4O</td>\n",
       "      <td>B00QUFTPV4</td>\n",
       "      <td>221169481</td>\n",
       "      <td>abcGoodefg® FBI Covert Acoustic Tube Earpiece ...</td>\n",
       "      <td>Mobile_Electronics</td>\n",
       "      <td>4</td>\n",
       "      <td>0</td>\n",
       "      <td>0</td>\n",
       "      <td>N</td>\n",
       "      <td>Y</td>\n",
       "      <td>Work very well but couldn't get used to not he...</td>\n",
       "      <td>Work very well but couldn't get used to not he...</td>\n",
       "      <td>2015-08-31</td>\n",
       "    </tr>\n",
       "    <tr>\n",
       "      <th>4</th>\n",
       "      <td>US</td>\n",
       "      <td>44855305</td>\n",
       "      <td>R26I2RI1GFV8QG</td>\n",
       "      <td>B0067XVNTG</td>\n",
       "      <td>563475445</td>\n",
       "      <td>Generic Car Dashboard Video Camera Vehicle Vid...</td>\n",
       "      <td>Mobile_Electronics</td>\n",
       "      <td>2</td>\n",
       "      <td>0</td>\n",
       "      <td>0</td>\n",
       "      <td>N</td>\n",
       "      <td>Y</td>\n",
       "      <td>Cameras has battery issues</td>\n",
       "      <td>Be careful with these products, I have bought ...</td>\n",
       "      <td>2015-08-31</td>\n",
       "    </tr>\n",
       "  </tbody>\n",
       "</table>\n",
       "</div>"
      ],
      "text/plain": [
       "  marketplace  customer_id       review_id  product_id  product_parent  \\\n",
       "0          US     20422322   R8MEA6IGAHO0B  B00MC4CED8       217304173   \n",
       "1          US     40835037  R31LOQ8JGLPRLK  B00OQMFG1Q       137313254   \n",
       "2          US     51469641  R2Y0MM9YE6OP3P  B00QERR5CY        82850235   \n",
       "3          US      4332923   RRB9C05HDOD4O  B00QUFTPV4       221169481   \n",
       "4          US     44855305  R26I2RI1GFV8QG  B0067XVNTG       563475445   \n",
       "\n",
       "                                       product_title    product_category  \\\n",
       "0                               BlackVue DR600GW-PMP  Mobile_Electronics   \n",
       "1  GENSSI GSM / GPS Two Way Smart Phone Car Alarm...  Mobile_Electronics   \n",
       "2                    iXCC Multi pack Lightning cable  Mobile_Electronics   \n",
       "3  abcGoodefg® FBI Covert Acoustic Tube Earpiece ...  Mobile_Electronics   \n",
       "4  Generic Car Dashboard Video Camera Vehicle Vid...  Mobile_Electronics   \n",
       "\n",
       "   star_rating  helpful_votes  total_votes vine verified_purchase  \\\n",
       "0            5              0            0    N                 Y   \n",
       "1            5              0            1    N                 Y   \n",
       "2            5              0            0    N                 Y   \n",
       "3            4              0            0    N                 Y   \n",
       "4            2              0            0    N                 Y   \n",
       "\n",
       "                                     review_headline  \\\n",
       "0                                        Very Happy!   \n",
       "1                                          five star   \n",
       "2                                       great cables   \n",
       "3  Work very well but couldn't get used to not he...   \n",
       "4                         Cameras has battery issues   \n",
       "\n",
       "                                         review_body review_date  \n",
       "0  As advertised. Everything works perfectly, I'm...  2015-08-31  \n",
       "1                                         it's great  2015-08-31  \n",
       "2  These work great and fit my life proof case fo...  2015-08-31  \n",
       "3  Work very well but couldn't get used to not he...  2015-08-31  \n",
       "4  Be careful with these products, I have bought ...  2015-08-31  "
      ]
     },
     "execution_count": 2,
     "metadata": {},
     "output_type": "execute_result"
    }
   ],
   "source": [
    "# Load the dataset\n",
    "import pandas as pd\n",
    "import numpy as np\n",
    "\n",
    "df = pd.read_csv('/mnt/data/amazon_reviews.tsv', sep='\\t')\n",
    "\n",
    "# Display the first few rows of the dataset\n",
    "df.head()\n"
   ]
  },
  {
   "cell_type": "markdown",
   "id": "291b733b971e8335",
   "metadata": {
    "collapsed": false,
    "jupyter": {
     "outputs_hidden": false
    }
   },
   "source": [
    "## Data Preprocessing\n",
    "\n",
    "We will clean the text data, tokenize it, and convert it into numerical features using TF-IDF.\n"
   ]
  },
  {
   "cell_type": "code",
   "execution_count": 3,
   "id": "12c4a2de8d85c080",
   "metadata": {
    "ExecuteTime": {
     "end_time": "2024-07-20T21:59:39.561843600Z",
     "start_time": "2024-07-20T21:59:37.869656800Z"
    },
    "collapsed": false,
    "jupyter": {
     "outputs_hidden": false
    }
   },
   "outputs": [],
   "source": [
    "from sklearn.model_selection import train_test_split\n",
    "from sklearn.feature_extraction.text import TfidfVectorizer\n",
    "import re\n",
    "import string\n",
    "\n",
    "# Function to clean the text\n",
    "def clean_text(text):\n",
    "    text = text.lower()  # Lowercase text\n",
    "    text = re.sub(f'[{re.escape(string.punctuation)}]', '', text)  # Remove punctuation\n",
    "    text = re.sub(r'\\d+', '', text)  # Remove numbers\n",
    "    text = re.sub(r'\\s+', ' ', text).strip()  # Remove extra whitespace\n",
    "    return text\n",
    "\n",
    "# Clean the review text\n",
    "df['cleaned_review'] = df['review_body'].apply(clean_text)\n",
    "\n",
    "# Assign sentiment labels (assuming rating 4 and above is positive, below 4 is negative)\n",
    "df['sentiment'] = np.where(df['star_rating'] >= 4, 1, 0)\n",
    "\n",
    "# Split the dataset into training and testing sets\n",
    "X_train, X_test, y_train, y_test = train_test_split(df['cleaned_review'], df['sentiment'], test_size=0.2, random_state=42)\n",
    "\n",
    "# Vectorize the text data using TF-IDF\n",
    "vectorizer = TfidfVectorizer(max_features=5000)\n",
    "X_train_tfidf = vectorizer.fit_transform(X_train)\n",
    "X_test_tfidf = vectorizer.transform(X_test)\n"
   ]
  },
  {
   "cell_type": "markdown",
   "id": "8c283ef77ff66d8f",
   "metadata": {
    "collapsed": false,
    "jupyter": {
     "outputs_hidden": false
    }
   },
   "source": [
    "## Model Training\n",
    "\n",
    "We will train a Naive Bayes classifier on the preprocessed text data.\n"
   ]
  },
  {
   "cell_type": "code",
   "execution_count": 4,
   "id": "20338b372ff4ac8e",
   "metadata": {
    "ExecuteTime": {
     "start_time": "2024-07-20T21:59:39.101648300Z"
    },
    "collapsed": false,
    "jupyter": {
     "outputs_hidden": false
    }
   },
   "outputs": [
    {
     "name": "stdout",
     "output_type": "stream",
     "text": [
      "Accuracy: 0.7647058823529411\n",
      "Confusion Matrix:\n",
      "[[ 0  4]\n",
      " [ 0 13]]\n",
      "Classification Report:\n",
      "              precision    recall  f1-score   support\n",
      "\n",
      "           0       0.00      0.00      0.00         4\n",
      "           1       0.76      1.00      0.87        13\n",
      "\n",
      "    accuracy                           0.76        17\n",
      "   macro avg       0.38      0.50      0.43        17\n",
      "weighted avg       0.58      0.76      0.66        17\n",
      "\n"
     ]
    },
    {
     "name": "stderr",
     "output_type": "stream",
     "text": [
      "/usr/local/lib/python3.10/dist-packages/sklearn/metrics/_classification.py:1531: UndefinedMetricWarning: Precision is ill-defined and being set to 0.0 in labels with no predicted samples. Use `zero_division` parameter to control this behavior.\n",
      "  _warn_prf(average, modifier, f\"{metric.capitalize()} is\", len(result))\n",
      "/usr/local/lib/python3.10/dist-packages/sklearn/metrics/_classification.py:1531: UndefinedMetricWarning: Precision is ill-defined and being set to 0.0 in labels with no predicted samples. Use `zero_division` parameter to control this behavior.\n",
      "  _warn_prf(average, modifier, f\"{metric.capitalize()} is\", len(result))\n",
      "/usr/local/lib/python3.10/dist-packages/sklearn/metrics/_classification.py:1531: UndefinedMetricWarning: Precision is ill-defined and being set to 0.0 in labels with no predicted samples. Use `zero_division` parameter to control this behavior.\n",
      "  _warn_prf(average, modifier, f\"{metric.capitalize()} is\", len(result))\n"
     ]
    }
   ],
   "source": [
    "from sklearn.naive_bayes import MultinomialNB\n",
    "from sklearn.metrics import accuracy_score, confusion_matrix, classification_report\n",
    "\n",
    "# Train a Naive Bayes classifier\n",
    "model = MultinomialNB()\n",
    "model.fit(X_train_tfidf, y_train)\n",
    "\n",
    "# Predict sentiments for the test set\n",
    "y_pred = model.predict(X_test_tfidf)\n",
    "\n",
    "# Evaluate the model\n",
    "accuracy = accuracy_score(y_test, y_pred)\n",
    "conf_matrix = confusion_matrix(y_test, y_pred)\n",
    "class_report = classification_report(y_test, y_pred)\n",
    "\n",
    "print(f'Accuracy: {accuracy}')\n",
    "print('Confusion Matrix:')\n",
    "print(conf_matrix)\n",
    "print('Classification Report:')\n",
    "print(class_report)\n"
   ]
  },
  {
   "cell_type": "markdown",
   "id": "b39e017c7d5fba4c",
   "metadata": {
    "collapsed": false,
    "jupyter": {
     "outputs_hidden": false
    }
   },
   "source": [
    "## Visualizing the Results\n",
    "\n",
    "We will plot the confusion matrix to visualize the performance of our model.\n"
   ]
  },
  {
   "cell_type": "code",
   "execution_count": 5,
   "id": "57ff6ae1a9948891",
   "metadata": {
    "ExecuteTime": {
     "start_time": "2024-07-20T21:59:39.101648300Z"
    },
    "collapsed": false,
    "jupyter": {
     "outputs_hidden": false
    }
   },
   "outputs": [
    {
     "data": {
      "image/png": "[encoded data removed]",
      "text/plain": [
       "<Figure size 600x600 with 2 Axes>"
      ]
     },
     "metadata": {},
     "output_type": "display_data"
    }
   ],
   "source": [
    "import seaborn as sns\n",
    "import matplotlib.pyplot as plt\n",
    "\n",
    "# Plot the confusion matrix\n",
    "plt.figure(figsize=(6, 6))\n",
    "sns.heatmap(conf_matrix, annot=True, fmt='d', cmap='Blues', xticklabels=['Negative', 'Positive'], yticklabels=['Negative', 'Positive'])\n",
    "plt.xlabel('Predicted')\n",
    "plt.ylabel('Actual')\n",
    "plt.title('Confusion Matrix')\n",
    "plt.show()\n"
   ]
  },
  {
   "cell_type": "markdown",
   "id": "e7a6db32729fbf65",
   "metadata": {
    "collapsed": false,
    "jupyter": {
     "outputs_hidden": false
    }
   },
   "source": [
    "## Use a Pre-built Sentiment Analysis Model\n",
    "\n",
    "We will use the `distilbert-base-uncased-finetuned-sst-2-english` model from the Hugging Face Transformers library to predict sentiments and compare the results with our Naive Bayes classifier.\n"
   ]
  },
  {
   "cell_type": "code",
   "execution_count": 6,
   "id": "38fde10b958eca3d",
   "metadata": {
    "ExecuteTime": {
     "start_time": "2024-07-20T21:59:39.103223700Z"
    },
    "collapsed": false,
    "jupyter": {
     "outputs_hidden": false
    }
   },
   "outputs": [
    {
     "name": "stderr",
     "output_type": "stream",
     "text": [
      "/usr/local/lib/python3.10/dist-packages/tqdm/auto.py:21: TqdmWarning: IProgress not found. Please update jupyter and ipywidgets. See https://ipywidgets.readthedocs.io/en/stable/user_install.html\n",
      "  from .autonotebook import tqdm as notebook_tqdm\n"
     ]
    },
    {
     "name": "stdout",
     "output_type": "stream",
     "text": [
      "Accuracy (Hugging Face): 0.7058823529411765\n",
      "Confusion Matrix (Hugging Face):\n",
      "[[3 1]\n",
      " [4 9]]\n",
      "Classification Report (Hugging Face):\n",
      "              precision    recall  f1-score   support\n",
      "\n",
      "           0       0.43      0.75      0.55         4\n",
      "           1       0.90      0.69      0.78        13\n",
      "\n",
      "    accuracy                           0.71        17\n",
      "   macro avg       0.66      0.72      0.66        17\n",
      "weighted avg       0.79      0.71      0.73        17\n",
      "\n"
     ]
    }
   ],
   "source": [
    "from transformers import pipeline\n",
    "\n",
    "# Load the pre-built sentiment analysis pipeline\n",
    "sentiment_pipeline = pipeline('sentiment-analysis', model='distilbert-base-uncased-finetuned-sst-2-english')\n",
    "\n",
    "# Predict sentiments using the pre-built model\n",
    "y_pred_hf = [1 if sentiment_pipeline(review)[0]['label'] == 'POSITIVE' else 0 for review in X_test]\n",
    "\n",
    "# Evaluate the pre-built model\n",
    "accuracy_hf = accuracy_score(y_test, y_pred_hf)\n",
    "conf_matrix_hf = confusion_matrix(y_test, y_pred_hf)\n",
    "class_report_hf = classification_report(y_test, y_pred_hf)\n",
    "\n",
    "print(f'Accuracy (Hugging Face): {accuracy_hf}')\n",
    "print('Confusion Matrix (Hugging Face):')\n",
    "print(conf_matrix_hf)\n",
    "print('Classification Report (Hugging Face):')\n",
    "print(class_report_hf)\n"
   ]
  },
  {
   "cell_type": "markdown",
   "id": "852013e8b48f0b50",
   "metadata": {
    "collapsed": false,
    "jupyter": {
     "outputs_hidden": false
    }
   },
   "source": [
    "## Compare the Results\n",
    "\n",
    "We will compare the performance of the Naive Bayes classifier with the pre-built Hugging Face model.\n"
   ]
  },
  {
   "cell_type": "code",
   "execution_count": 7,
   "id": "cbb23a8842ae1633",
   "metadata": {
    "ExecuteTime": {
     "start_time": "2024-07-20T21:59:39.105831200Z"
    },
    "collapsed": false,
    "jupyter": {
     "outputs_hidden": false
    }
   },
   "outputs": [
    {
     "name": "stdout",
     "output_type": "stream",
     "text": [
      "Accuracy (Naive Bayes): 0.7647058823529411\n",
      "Accuracy (Hugging Face): 0.7058823529411765\n"
     ]
    },
    {
     "data": {
      "image/png": "[encoded data removed]",
      "text/plain": [
       "<Figure size 1200x600 with 4 Axes>"
      ]
     },
     "metadata": {},
     "output_type": "display_data"
    }
   ],
   "source": [
    "print(f'Accuracy (Naive Bayes): {accuracy}')\n",
    "print(f'Accuracy (Hugging Face): {accuracy_hf}')\n",
    "\n",
    "# Visualize confusion matrices side by side\n",
    "fig, ax = plt.subplots(1, 2, figsize=(12, 6))\n",
    "\n",
    "# Naive Bayes confusion matrix\n",
    "sns.heatmap(conf_matrix, annot=True, fmt='d', cmap='Blues', xticklabels=['Negative', 'Positive'], yticklabels=['Negative', 'Positive'], ax=ax[0])\n",
    "ax[0].set_title('Confusion Matrix (Naive Bayes)')\n",
    "ax[0].set_xlabel('Predicted')\n",
    "ax[0].set_ylabel('Actual')\n",
    "\n",
    "# Hugging Face confusion matrix\n",
    "sns.heatmap(conf_matrix_hf, annot=True, fmt='d', cmap='Blues', xticklabels=['Negative', 'Positive'], yticklabels=['Negative', 'Positive'], ax=ax[1])\n",
    "ax[1].set_title('Confusion Matrix (Hugging Face)')\n",
    "ax[1].set_xlabel('Predicted')\n",
    "ax[1].set_ylabel('Actual')\n",
    "\n",
    "plt.tight_layout()\n",
    "plt.show()\n"
   ]
  },
  {
   "cell_type": "markdown",
   "id": "edc3764bdeaad330",
   "metadata": {
    "collapsed": false,
    "jupyter": {
     "outputs_hidden": false
    }
   },
   "source": [
    "## Visualizing Sentiment Distributions\n",
    "\n",
    "We will visualize the sentiment distributions predicted by the Naive Bayes classifier and the Hugging Face model.\n"
   ]
  },
  {
   "cell_type": "code",
   "execution_count": 8,
   "id": "92f85a0c2b051cbf",
   "metadata": {
    "ExecuteTime": {
     "start_time": "2024-07-20T21:59:39.107393800Z"
    },
    "collapsed": false,
    "jupyter": {
     "outputs_hidden": false
    }
   },
   "outputs": [
    {
     "data": {
      "image/png": "[encoded data removed]",
      "text/plain": [
       "<Figure size 1200x600 with 2 Axes>"
      ]
     },
     "metadata": {},
     "output_type": "display_data"
    }
   ],
   "source": [
    "import matplotlib.pyplot as plt\n",
    "\n",
    "# Calculate sentiment distributions\n",
    "nb_positive = sum(y_pred)\n",
    "nb_negative = len(y_pred) - nb_positive\n",
    "\n",
    "hf_positive = sum(y_pred_hf)\n",
    "hf_negative = len(y_pred_hf) - hf_positive\n",
    "\n",
    "# Plot sentiment distributions\n",
    "fig, ax = plt.subplots(1, 2, figsize=(12, 6))\n",
    "\n",
    "# Naive Bayes sentiment distribution\n",
    "ax[0].bar(['Positive', 'Negative'], [nb_positive, nb_negative], color=['green', 'red'])\n",
    "ax[0].set_title('Sentiment Distribution (Naive Bayes)')\n",
    "ax[0].set_xlabel('Sentiment')\n",
    "ax[0].set_ylabel('Count')\n",
    "\n",
    "# Hugging Face sentiment distribution\n",
    "ax[1].bar(['Positive', 'Negative'], [hf_positive, hf_negative], color=['green', 'red'])\n",
    "ax[1].set_title('Sentiment Distribution (Hugging Face)')\n",
    "ax[1].set_xlabel('Sentiment')\n",
    "ax[1].set_ylabel('Count')\n",
    "\n",
    "plt.tight_layout()\n",
    "plt.show()\n"
   ]
  },
  {
   "cell_type": "markdown",
   "id": "9abab1f8-eb7b-4610-a760-ecf8211f2868",
   "metadata": {},
   "source": [
    "# Topic Modeling\n",
    "\n",
    "Topic modeling is an unsupervised learning technique used to identify the underlying themes or topics within a collection of documents. It helps to discover the hidden thematic structure in a large corpus of text. One of the most popular algorithms for topic modeling is Latent Dirichlet Allocation (LDA).\n",
    "\n",
    "In this section, we will perform topic modeling separately for positive and negative reviews to identify the key topics in each category. The steps involved are:\n",
    "\n",
    "1. Preprocess the text data for topic modeling.\n",
    "2. Perform topic modeling using LDA for positive reviews.\n",
    "3. Perform topic modeling using LDA for negative reviews.\n",
    "4. Visualize the topics using `pyLDAvis`.\n",
    "\n",
    "This approach will help us understand the dominant themes in both positive and negative reviews, providing insights into customer feedback.\n"
   ]
  },
  {
   "cell_type": "markdown",
   "id": "e77030f1-b98c-4204-bd8e-2f4384e82e40",
   "metadata": {},
   "source": [
    "## Preprocessing for Topic Modeling\n",
    "\n",
    "We will preprocess the text data separately for positive and negative reviews.\n"
   ]
  },
  {
   "cell_type": "code",
   "execution_count": 9,
   "id": "b2aca241-21f7-47d4-87f0-478d16273d67",
   "metadata": {},
   "outputs": [],
   "source": [
    "# Separate positive and negative reviews\n",
    "positive_reviews = df[df['sentiment'] == 1]['cleaned_review']\n",
    "negative_reviews = df[df['sentiment'] == 0]['cleaned_review']\n",
    "\n",
    "# Vectorize the text data using TF-IDF\n",
    "vectorizer_positive = TfidfVectorizer(max_features=5000, stop_words='english')\n",
    "vectorizer_negative = TfidfVectorizer(max_features=5000, stop_words='english')\n",
    "\n",
    "positive_tfidf = vectorizer_positive.fit_transform(positive_reviews)\n",
    "negative_tfidf = vectorizer_negative.fit_transform(negative_reviews)\n",
    "\n"
   ]
  },
  {
   "cell_type": "markdown",
   "id": "057aab3c-43a5-4a40-bf1d-7c28f63f21e4",
   "metadata": {},
   "source": [
    "## Topic Modeling for Positive Reviews\n",
    "\n",
    "We will perform topic modeling using Latent Dirichlet Allocation (LDA) to discover the underlying topics in positive reviews.\n"
   ]
  },
  {
   "cell_type": "code",
   "execution_count": 10,
   "id": "a375870b-6ddf-4d52-b070-d00dd37d8fc3",
   "metadata": {},
   "outputs": [
    {
     "name": "stdout",
     "output_type": "stream",
     "text": [
      "Positive Reviews Topics:\n",
      "Topic #1:\n",
      "price kindle cord install great ipod original outstanding did easy\n",
      "\n",
      "Topic #2:\n",
      "love nice satisfied unit good works great sounds loud coming\n",
      "\n",
      "Topic #3:\n",
      "great battery use easy worked nice needed vacation exactly needs\n",
      "\n",
      "Topic #4:\n",
      "good vcccc item works surprised work seller shipping long provide\n",
      "\n",
      "Topic #5:\n",
      "great expected savers awesome product life im somuch want family\n",
      "\n"
     ]
    }
   ],
   "source": [
    "from sklearn.decomposition import LatentDirichletAllocation\n",
    "\n",
    "# Topic Modeling for Positive Reviews\n",
    "n_topics = 5  # Number of topics\n",
    "lda_positive = LatentDirichletAllocation(n_components=n_topics, random_state=42)\n",
    "lda_positive.fit(positive_tfidf)\n",
    "\n",
    "# Display the topics for positive reviews\n",
    "def display_topics(model, feature_names, n_top_words):\n",
    "    for topic_idx, topic in enumerate(model.components_):\n",
    "        print(f\"Topic #{topic_idx + 1}:\")\n",
    "        print(\" \".join([feature_names[i] for i in topic.argsort()[:-n_top_words - 1:-1]]))\n",
    "        print()\n",
    "\n",
    "n_top_words = 10\n",
    "tf_feature_names_positive = vectorizer_positive.get_feature_names_out()\n",
    "print(\"Positive Reviews Topics:\")\n",
    "display_topics(lda_positive, tf_feature_names_positive, n_top_words)\n",
    "\n"
   ]
  },
  {
   "cell_type": "markdown",
   "id": "346d65d0-dbbb-4ecb-a373-e35515f87b50",
   "metadata": {},
   "source": [
    "## Topic Modeling for Negative Reviews\n",
    "\n",
    "We will perform topic modeling using Latent Dirichlet Allocation (LDA) to discover the underlying topics in negative reviews.\n"
   ]
  },
  {
   "cell_type": "code",
   "execution_count": 11,
   "id": "d743173a-30b1-43f9-9489-1c030ce3ee67",
   "metadata": {},
   "outputs": [
    {
     "name": "stdout",
     "output_type": "stream",
     "text": [
      "Negative Reviews Topics:\n",
      "Topic #1:\n",
      "failed sucks sounds priced great lot work stores music minimal\n",
      "\n",
      "Topic #2:\n",
      "ok good sound use phone speaker doesnt quality charge portable\n",
      "\n",
      "Topic #3:\n",
      "scratchy keyed producto excelente works charge compass reliable really pretty\n",
      "\n",
      "Topic #4:\n",
      "need plug dvr battery cover ft trip days bought ive\n",
      "\n",
      "Topic #5:\n",
      "stars xl fit wouldnt does sound appears items waiting radiobatteriescharger\n",
      "\n"
     ]
    }
   ],
   "source": [
    "# Topic Modeling for Negative Reviews\n",
    "lda_negative = LatentDirichletAllocation(n_components=n_topics, random_state=42)\n",
    "lda_negative.fit(negative_tfidf)\n",
    "\n",
    "# Display the topics for negative reviews\n",
    "print(\"Negative Reviews Topics:\")\n",
    "tf_feature_names_negative = vectorizer_negative.get_feature_names_out()\n",
    "display_topics(lda_negative, tf_feature_names_negative, n_top_words)\n",
    "\n"
   ]
  },
  {
   "cell_type": "markdown",
   "id": "4c59b12a-6e58-494e-9e66-60b5dd461f6e",
   "metadata": {},
   "source": [
    "## Visualizing the Topics\n",
    "\n",
    "We will visualize the topics using pyLDAvis for both positive and negative reviews.\n"
   ]
  },
  {
   "cell_type": "markdown",
   "id": "66e7b963-e863-4b18-a9f9-8d2f7a281b74",
   "metadata": {},
   "source": [
    "### Understanding LDA Panels with `pyLDAvis`\n",
    "\n",
    "#### Key Components of the `pyLDAvis` Panel\n",
    "\n",
    "1. **Intertopic Distance Map (Left Panel)**:\n",
    "    - **Purpose**: Shows the distance between topics in a two-dimensional space.\n",
    "    - **Description**: Each circle represents a topic. The size of the circle is proportional to the prevalence of the topic in the corpus. The distance between circles indicates the similarity between topics—closer circles are more similar.\n",
    "    - **Interactions**: Hovering over or clicking on a topic circle highlights the relevant terms and updates the right panel to show more detailed information about the selected topic.\n",
    "\n",
    "2. **Top-30 Most Relevant Terms (Right Panel)**:\n",
    "    - **Purpose**: Displays the most relevant terms for the selected topic.\n",
    "    - **Description**: The right panel is a bar chart that shows the top-30 most relevant terms for the selected topic. Relevance is a weighted combination of the term frequency within the topic and the term's exclusivity to the topic.\n",
    "    - **Interactions**: Hovering over or clicking on different terms in the bar chart highlights those terms in the left panel and updates their relevance scores.\n",
    "\n",
    "3. **Lambda Slider (Above Right Panel)**:\n",
    "    - **Purpose**: Adjusts the weighting of term frequency versus term exclusivity when determining term relevance.\n",
    "    - **Description**: Lambda ranges from 0 to 1. When lambda is set to 1, terms are ranked purely by their frequency within the selected topic. When lambda is set to 0, terms are ranked by their exclusivity to the topic. Adjusting the slider helps explore different aspects of term relevance.\n",
    "\n",
    "#### Interpreting the LDA Visualization\n",
    "\n",
    "1. **Identifying Dominant Topics**:\n",
    "    - Larger circles on the left panel represent more prevalent topics in the corpus. By examining these topics, you can identify the dominant themes in the dataset.\n",
    "\n",
    "2. **Exploring Topic Similarity**:\n",
    "    - The distance between circles indicates how similar or different topics are. Topics that are close to each other share more common terms and concepts, while distant topics are more distinct.\n",
    "\n",
    "3. **Understanding Term Relevance**:\n",
    "    - The right panel helps in understanding the key terms that define each topic. Adjusting the lambda slider provides insights into whether the terms are frequent within the topic or unique to it.\n"
   ]
  },
  {
   "cell_type": "code",
   "execution_count": 12,
   "id": "fbaa8bfa-822e-44bf-a730-4993b564584e",
   "metadata": {},
   "outputs": [
    {
     "name": "stderr",
     "output_type": "stream",
     "text": [
      "huggingface/tokenizers: The current process just got forked, after parallelism has already been used. Disabling parallelism to avoid deadlocks...\n",
      "To disable this warning, you can either:\n",
      "\t- Avoid using `tokenizers` before the fork if possible\n",
      "\t- Explicitly set the environment variable TOKENIZERS_PARALLELISM=(true | false)\n",
      "huggingface/tokenizers: The current process just got forked, after parallelism has already been used. Disabling parallelism to avoid deadlocks...\n",
      "To disable this warning, you can either:\n",
      "\t- Avoid using `tokenizers` before the fork if possible\n",
      "\t- Explicitly set the environment variable TOKENIZERS_PARALLELISM=(true | false)\n",
      "huggingface/tokenizers: The current process just got forked, after parallelism has already been used. Disabling parallelism to avoid deadlocks...\n",
      "To disable this warning, you can either:\n",
      "\t- Avoid using `tokenizers` before the fork if possible\n",
      "\t- Explicitly set the environment variable TOKENIZERS_PARALLELISM=(true | false)\n",
      "huggingface/tokenizers: The current process just got forked, after parallelism has already been used. Disabling parallelism to avoid deadlocks...\n",
      "To disable this warning, you can either:\n",
      "\t- Avoid using `tokenizers` before the fork if possible\n",
      "\t- Explicitly set the environment variable TOKENIZERS_PARALLELISM=(true | false)\n",
      "huggingface/tokenizers: The current process just got forked, after parallelism has already been used. Disabling parallelism to avoid deadlocks...\n",
      "To disable this warning, you can either:\n",
      "\t- Avoid using `tokenizers` before the fork if possible\n",
      "\t- Explicitly set the environment variable TOKENIZERS_PARALLELISM=(true | false)\n",
      "huggingface/tokenizers: The current process just got forked, after parallelism has already been used. Disabling parallelism to avoid deadlocks...\n",
      "To disable this warning, you can either:\n",
      "\t- Avoid using `tokenizers` before the fork if possible\n",
      "\t- Explicitly set the environment variable TOKENIZERS_PARALLELISM=(true | false)\n",
      "huggingface/tokenizers: The current process just got forked, after parallelism has already been used. Disabling parallelism to avoid deadlocks...\n",
      "To disable this warning, you can either:\n",
      "\t- Avoid using `tokenizers` before the fork if possible\n",
      "\t- Explicitly set the environment variable TOKENIZERS_PARALLELISM=(true | false)\n",
      "huggingface/tokenizers: The current process just got forked, after parallelism has already been used. Disabling parallelism to avoid deadlocks...\n",
      "To disable this warning, you can either:\n",
      "\t- Avoid using `tokenizers` before the fork if possible\n",
      "\t- Explicitly set the environment variable TOKENIZERS_PARALLELISM=(true | false)\n",
      "huggingface/tokenizers: The current process just got forked, after parallelism has already been used. Disabling parallelism to avoid deadlocks...\n",
      "To disable this warning, you can either:\n",
      "\t- Avoid using `tokenizers` before the fork if possible\n",
      "\t- Explicitly set the environment variable TOKENIZERS_PARALLELISM=(true | false)\n",
      "huggingface/tokenizers: The current process just got forked, after parallelism has already been used. Disabling parallelism to avoid deadlocks...\n",
      "To disable this warning, you can either:\n",
      "\t- Avoid using `tokenizers` before the fork if possible\n",
      "\t- Explicitly set the environment variable TOKENIZERS_PARALLELISM=(true | false)\n",
      "huggingface/tokenizers: The current process just got forked, after parallelism has already been used. Disabling parallelism to avoid deadlocks...\n",
      "To disable this warning, you can either:\n",
      "\t- Avoid using `tokenizers` before the fork if possible\n",
      "\t- Explicitly set the environment variable TOKENIZERS_PARALLELISM=(true | false)\n",
      "huggingface/tokenizers: The current process just got forked, after parallelism has already been used. Disabling parallelism to avoid deadlocks...\n",
      "To disable this warning, you can either:\n",
      "\t- Avoid using `tokenizers` before the fork if possible\n",
      "\t- Explicitly set the environment variable TOKENIZERS_PARALLELISM=(true | false)\n",
      "huggingface/tokenizers: The current process just got forked, after parallelism has already been used. Disabling parallelism to avoid deadlocks...\n",
      "To disable this warning, you can either:\n",
      "\t- Avoid using `tokenizers` before the fork if possible\n",
      "\t- Explicitly set the environment variable TOKENIZERS_PARALLELISM=(true | false)\n",
      "huggingface/tokenizers: The current process just got forked, after parallelism has already been used. Disabling parallelism to avoid deadlocks...\n",
      "To disable this warning, you can either:\n",
      "\t- Avoid using `tokenizers` before the fork if possible\n",
      "\t- Explicitly set the environment variable TOKENIZERS_PARALLELISM=(true | false)\n",
      "huggingface/tokenizers: The current process just got forked, after parallelism has already been used. Disabling parallelism to avoid deadlocks...\n",
      "To disable this warning, you can either:\n",
      "\t- Avoid using `tokenizers` before the fork if possible\n",
      "\t- Explicitly set the environment variable TOKENIZERS_PARALLELISM=(true | false)\n",
      "huggingface/tokenizers: The current process just got forked, after parallelism has already been used. Disabling parallelism to avoid deadlocks...\n",
      "To disable this warning, you can either:\n",
      "\t- Avoid using `tokenizers` before the fork if possible\n",
      "\t- Explicitly set the environment variable TOKENIZERS_PARALLELISM=(true | false)\n",
      "huggingface/tokenizers: The current process just got forked, after parallelism has already been used. Disabling parallelism to avoid deadlocks...\n",
      "To disable this warning, you can either:\n",
      "\t- Avoid using `tokenizers` before the fork if possible\n",
      "\t- Explicitly set the environment variable TOKENIZERS_PARALLELISM=(true | false)\n"
     ]
    },
    {
     "name": "stdout",
     "output_type": "stream",
     "text": [
      "LDA Visualization for Positive Reviews\n"
     ]
    },
    {
     "data": {
      "text/html": [
       "\n",
       "<link rel=\"stylesheet\" type=\"text/css\" href=\"https://cdn.jsdelivr.net/gh/bmabey/pyLDAvis@3.4.0/pyLDAvis/js/ldavis.v1.0.0.css\">\n",
       "\n",
       "\n",
       "<div id=\"ldavis_el12721399065451206723908903687\" style=\"background-color:white;\"></div>\n",
       "<script type=\"text/javascript\">\n",
       "\n",
       "var ldavis_el12721399065451206723908903687_data = {\"mdsDat\": {\"x\": [-0.03803364225221881, 0.01780920951767883, 0.015858002552021716, 0.00226007548001733, 0.002106354702501], \"y\": [-0.0024868914356085473, -0.030025011257629432, 0.02694536366337134, 0.007230159075388254, -0.0016636200455216212], \"topics\": [1, 2, 3, 4, 5], \"cluster\": [1, 1, 1, 1, 1], \"Freq\": [27.974008437240943, 21.993558007632064, 21.899079400493846, 17.736111049973708, 10.397243104659443]}, \"tinfo\": {\"Term\": [\"expected\", \"great\", \"awesome\", \"savers\", \"life\", \"love\", \"vcccc\", \"battery\", \"price\", \"im\", \"somuch\", \"family\", \"want\", \"worked\", \"item\", \"kindle\", \"surprised\", \"product\", \"easy\", \"cord\", \"needed\", \"install\", \"use\", \"ipod\", \"original\", \"vacation\", \"satisfied\", \"advertised\", \"outstanding\", \"good\", \"satisfied\", \"love\", \"sounds\", \"loud\", \"coming\", \"far\", \"strong\", \"loved\", \"speaker\", \"friend\", \"fits\", \"zune\", \"unit\", \"afternoon\", \"thought\", \"clutch\", \"pioneer\", \"delivery\", \"expectations\", \"prompt\", \"contacted\", \"directions\", \"store\", \"voice\", \"impressed\", \"really\", \"ago\", \"cam\", \"dash\", \"nice\", \"feet\", \"awesome\", \"works\", \"good\", \"gift\", \"long\", \"product\", \"great\", \"vcccc\", \"item\", \"surprised\", \"seller\", \"shipping\", \"provide\", \"best\", \"gadget\", \"lovers\", \"music\", \"ear\", \"hearing\", \"plugged\", \"provider\", \"thanks\", \"effort\", \"pairs\", \"repairs\", \"fit\", \"iphone\", \"proof\", \"bass\", \"plan\", \"work\", \"free\", \"easily\", \"advertised\", \"br\", \"good\", \"long\", \"works\", \"sound\", \"great\", \"product\", \"like\", \"worked\", \"needed\", \"battery\", \"vacation\", \"application\", \"needs\", \"skar\", \"use\", \"exactly\", \"dad\", \"nook\", \"came\", \"information\", \"look\", \"device\", \"easy\", \"gives\", \"lasts\", \"park\", \"phone\", \"android\", \"bmw\", \"engines\", \"flash\", \"flasher\", \"ii\", \"mhd\", \"performance\", \"tunes\", \"time\", \"video\", \"met\", \"great\", \"nice\", \"sound\", \"dashcam\", \"case\", \"clear\", \"did\", \"bought\", \"gift\", \"kindle\", \"price\", \"cord\", \"install\", \"ipod\", \"original\", \"outstanding\", \"able\", \"larger\", \"excellent\", \"worth\", \"audio\", \"computer\", \"input\", \"ipad\", \"jack\", \"monitor\", \"range\", \"ipodphone\", \"job\", \"locks\", \"pretty\", \"pull\", \"accidentally\", \"damaged\", \"finder\", \"fish\", \"portable\", \"replaced\", \"replacement\", \"did\", \"clear\", \"screen\", \"easy\", \"great\", \"like\", \"dashcam\", \"works\", \"product\", \"love\", \"expected\", \"savers\", \"family\", \"somuch\", \"want\", \"im\", \"life\", \"awesome\", \"fact\", \"going\", \"happy\", \"matter\", \"nd\", \"perfectly\", \"great\", \"camera\", \"car\", \"advertised\", \"buy\", \"product\", \"like\", \"sound\", \"adequate\", \"batterydriven\", \"bit\", \"budgetary\", \"bulb\", \"continuously\", \"dark\", \"deciding\", \"good\", \"works\", \"love\", \"nice\", \"work\", \"use\", \"screen\", \"long\"], \"Freq\": [0.0, 1.0, 0.0, 0.0, 0.0, 1.0, 0.0, 0.0, 0.0, 0.0, 0.0, 0.0, 0.0, 0.0, 0.0, 0.0, 0.0, 0.0, 0.0, 0.0, 0.0, 0.0, 0.0, 0.0, 0.0, 0.0, 0.0, 0.0, 0.0, 1.0, 0.3858119071565263, 0.7215762319354782, 0.2744636522425364, 0.266733404715412, 0.2607384619111676, 0.2524052749489944, 0.24949143531760892, 0.2429958380663135, 0.24155496321996808, 0.2413817940817815, 0.23147638361796302, 0.23147638361796302, 0.35054153094178886, 0.21590739593267894, 0.2346932439299817, 0.2073537821018167, 0.2073537821018167, 0.20438958505669327, 0.20438958505669327, 0.20438958505669327, 0.19603501379885505, 0.19603501379885505, 0.19603501379885505, 0.19603501379885505, 0.2481056545742785, 0.24397436505222073, 0.19055785332253566, 0.1850818952456111, 0.1850818952456111, 0.47330540927744774, 0.2323317148421047, 0.25906331372407115, 0.3396425866319548, 0.3449484828886854, 0.2287391630839825, 0.23207531478375684, 0.24756630433127486, 0.2878885544447357, 0.33151318657461915, 0.30915380310169577, 0.2864414085068859, 0.23070501547234537, 0.22653078978995325, 0.20933614567966602, 0.19338436954882268, 0.19338436954882268, 0.19338436954882268, 0.19338436954882268, 0.18932286149279687, 0.18932286149279687, 0.18932286149279687, 0.18114811570983894, 0.18114811570983894, 0.17791672458312885, 0.17791672458312885, 0.17791672458312885, 0.17387010176010398, 0.17387010176010398, 0.17387010176010398, 0.1702201609290078, 0.169575129106537, 0.25591855262982216, 0.15148663919724425, 0.1665983311239912, 0.1665292523406223, 0.14262831754912988, 0.3950259346195851, 0.2107067774067202, 0.28727970186105073, 0.1998447869741739, 0.20206880114082856, 0.17647458735100602, 0.1706579763988786, 0.3081399322935746, 0.26018305515236706, 0.3589805049191319, 0.25190065679314533, 0.2199334217072043, 0.2199334217072043, 0.2131362019445557, 0.3138074942882875, 0.24133897626542905, 0.18361520206567417, 0.18361520206567417, 0.181525662121002, 0.181525662121002, 0.181525662121002, 0.16389434717132637, 0.31316075370157653, 0.1866907163665849, 0.15416580480654474, 0.15416580480654474, 0.14641169815555843, 0.1413596365628805, 0.1413596365628805, 0.1413596365628805, 0.1413596365628805, 0.1413596365628805, 0.1413596365628805, 0.1413596365628805, 0.1413596365628805, 0.1413596365628805, 0.16992735150015204, 0.17724352433915844, 0.20474707820458143, 0.44380328471819164, 0.2711912251773323, 0.21546609424959845, 0.17696956027095717, 0.1716898603729995, 0.16944394325583903, 0.16294952401650972, 0.16483222587223828, 0.16118336088747798, 0.21439440537210083, 0.24993684812730516, 0.19038111608042985, 0.18470640644120218, 0.18119247041922712, 0.18060712444118956, 0.1692479622861496, 0.14184525325997038, 0.15821807746598976, 0.1558932761496365, 0.1558932761496365, 0.1239425949432384, 0.1239425949432384, 0.1239425949432384, 0.1239425949432384, 0.1239425949432384, 0.1239425949432384, 0.1239425949432384, 0.11950237938987564, 0.11950237938987564, 0.11950237938987564, 0.11950237938987564, 0.11950237938987564, 0.11461650141546877, 0.11461650141546877, 0.11461650141546877, 0.11461650141546877, 0.11461650141546877, 0.11461650141546877, 0.11461650141546877, 0.16388494950721186, 0.15889820255682255, 0.1503257315137325, 0.1607242271701815, 0.1839699103101701, 0.13896579357652877, 0.12935995752831866, 0.1408613917167578, 0.13242434383344612, 0.12099886981721196, 0.3522269235738314, 0.1541323784070095, 0.10810172295177897, 0.10810172295177897, 0.10810172295177897, 0.11273674176480004, 0.1351712008640937, 0.15379521824236964, 0.0763932466652394, 0.0763932466652394, 0.0763932466652394, 0.0763932466652394, 0.0763932466652394, 0.0763932466652394, 0.35441082023747783, 0.07230384232710778, 0.07228591423715272, 0.07222643838973086, 0.06937153821642879, 0.13609515934067193, 0.08908462346013649, 0.0836280987820755, 0.03193566906991944, 0.03193566906991944, 0.03193566906991944, 0.03193566906991944, 0.03193566906991944, 0.03193566906991944, 0.03193566906991944, 0.03193566906991944, 0.07728794787649548, 0.06031475118235791, 0.031952048475630684, 0.03195055071830402, 0.03194603833054729, 0.03194519992894212, 0.03194517070287427, 0.03194499809419202], \"Total\": [0.0, 1.0, 0.0, 0.0, 0.0, 1.0, 0.0, 0.0, 0.0, 0.0, 0.0, 0.0, 0.0, 0.0, 0.0, 0.0, 0.0, 0.0, 0.0, 0.0, 0.0, 0.0, 0.0, 0.0, 0.0, 0.0, 0.0, 0.0, 0.0, 1.0, 0.5770249926840766, 1.1012077597661525, 0.4656428616192496, 0.4579246124868778, 0.4519187628901778, 0.443589054193105, 0.44068190908865146, 0.43419319217839736, 0.4327320472263933, 0.4325558277812573, 0.42266442345901345, 0.42266442345901345, 0.6576712574146071, 0.4070801156472198, 0.4508834123644908, 0.39853926997859157, 0.39853926997859157, 0.3955761214660923, 0.3955761214660923, 0.3955761214660923, 0.38722034250477755, 0.38722034250477755, 0.38722034250477755, 0.38722034250477755, 0.49121193192665386, 0.4831993433124523, 0.38173371407777723, 0.3762545986104456, 0.3762545986104456, 0.9933520163999328, 0.4917326570964485, 0.5721239873654123, 0.8834404312475049, 1.0368744173751003, 0.5257908099622092, 0.5787255197750472, 0.7838991363747798, 1.472141370851404, 0.531775191686403, 0.5093879557896438, 0.4866904839411103, 0.4309565707563179, 0.42677451929244736, 0.4095743245246548, 0.39362529361477316, 0.39362529361477316, 0.39362529361477316, 0.39362529361477316, 0.3895613565228938, 0.3895613565228938, 0.3895613565228938, 0.38138720172769475, 0.38138720172769475, 0.37815387819490065, 0.37815387819490065, 0.37815387819490065, 0.37410712477604285, 0.37410712477604285, 0.37410712477604285, 0.3704468937319405, 0.3860585989516045, 0.5909628332165563, 0.3517132412093429, 0.3956762868882623, 0.40707024442573747, 0.35915082134865317, 1.0368744173751003, 0.5787255197750472, 0.8834404312475049, 0.6836134061470853, 1.472141370851404, 0.7838991363747798, 0.6434715850263081, 0.5083170529543818, 0.4603728389305714, 0.6395342755943776, 0.45208520434624233, 0.4201183745669037, 0.4201183745669037, 0.4133054718879314, 0.6238909784772734, 0.4917461172616109, 0.3837938313161594, 0.3837938313161594, 0.3817041732798059, 0.3817041732798059, 0.3817041732798059, 0.3640585405458387, 0.7043614707975407, 0.42310413823651455, 0.35434603578715296, 0.35434603578715296, 0.3465837253775468, 0.34153427971536965, 0.34153427971536965, 0.34153427971536965, 0.34153427971536965, 0.34153427971536965, 0.34153427971536965, 0.34153427971536965, 0.34153427971536965, 0.34153427971536965, 0.41572996810431073, 0.43772471144239555, 0.5317858172116386, 1.472141370851404, 0.9933520163999328, 0.6836134061470853, 0.49799250248530724, 0.47940539103274155, 0.5111366213543812, 0.4783710696045491, 0.5317301051376507, 0.5257908099622092, 0.4212351939888555, 0.5007962457590418, 0.39722362995863636, 0.3915504247963679, 0.38803414359179844, 0.3874480749488902, 0.3760961800208496, 0.34868772224282396, 0.4125280879790345, 0.41306137302296697, 0.41306137302296697, 0.3307869087605714, 0.3307869087605714, 0.3307869087605714, 0.3307869087605714, 0.3307869087605714, 0.3307869087605714, 0.3307869087605714, 0.32635041325087055, 0.32635041325087055, 0.32635041325087055, 0.32635041325087055, 0.32635041325087055, 0.32146252479292703, 0.32146252479292703, 0.32146252479292703, 0.32146252479292703, 0.32146252479292703, 0.32146252479292703, 0.32146252479292703, 0.4783710696045491, 0.5111366213543812, 0.5080223296057254, 0.7043614707975407, 1.472141370851404, 0.6434715850263081, 0.49799250248530724, 0.8834404312475049, 0.7838991363747798, 1.1012077597661525, 0.601138857586615, 0.3777051879219089, 0.331665920219271, 0.331665920219271, 0.331665920219271, 0.35242499262816596, 0.49133209364393027, 0.5721239873654123, 0.2999541128046557, 0.2999541128046557, 0.2999541128046557, 0.2999541128046557, 0.2999541128046557, 0.2999541128046557, 1.472141370851404, 0.33225722294298815, 0.33941535384446075, 0.40707024442573747, 0.3942326586446984, 0.7838991363747798, 0.6434715850263081, 0.6836134061470853, 0.27357133339953493, 0.27357133339953493, 0.27357133339953493, 0.27357133339953493, 0.27357133339953493, 0.27357133339953493, 0.27357133339953493, 0.27357133339953493, 1.0368744173751003, 0.8834404312475049, 1.1012077597661525, 0.9933520163999328, 0.5909628332165563, 0.6238909784772734, 0.5080223296057254, 0.5787255197750472], \"Category\": [\"Default\", \"Default\", \"Default\", \"Default\", \"Default\", \"Default\", \"Default\", \"Default\", \"Default\", \"Default\", \"Default\", \"Default\", \"Default\", \"Default\", \"Default\", \"Default\", \"Default\", \"Default\", \"Default\", \"Default\", \"Default\", \"Default\", \"Default\", \"Default\", \"Default\", \"Default\", \"Default\", \"Default\", \"Default\", \"Default\", \"Topic1\", \"Topic1\", \"Topic1\", \"Topic1\", \"Topic1\", \"Topic1\", \"Topic1\", \"Topic1\", \"Topic1\", \"Topic1\", \"Topic1\", \"Topic1\", \"Topic1\", \"Topic1\", \"Topic1\", \"Topic1\", \"Topic1\", \"Topic1\", \"Topic1\", \"Topic1\", \"Topic1\", \"Topic1\", \"Topic1\", \"Topic1\", \"Topic1\", \"Topic1\", \"Topic1\", \"Topic1\", \"Topic1\", \"Topic1\", \"Topic1\", \"Topic1\", \"Topic1\", \"Topic1\", \"Topic1\", \"Topic1\", \"Topic1\", \"Topic1\", \"Topic2\", \"Topic2\", \"Topic2\", \"Topic2\", \"Topic2\", \"Topic2\", \"Topic2\", \"Topic2\", \"Topic2\", \"Topic2\", \"Topic2\", \"Topic2\", \"Topic2\", \"Topic2\", \"Topic2\", \"Topic2\", \"Topic2\", \"Topic2\", \"Topic2\", \"Topic2\", \"Topic2\", \"Topic2\", \"Topic2\", \"Topic2\", \"Topic2\", \"Topic2\", \"Topic2\", \"Topic2\", \"Topic2\", \"Topic2\", \"Topic2\", \"Topic2\", \"Topic2\", \"Topic2\", \"Topic2\", \"Topic3\", \"Topic3\", \"Topic3\", \"Topic3\", \"Topic3\", \"Topic3\", \"Topic3\", \"Topic3\", \"Topic3\", \"Topic3\", \"Topic3\", \"Topic3\", \"Topic3\", \"Topic3\", \"Topic3\", \"Topic3\", \"Topic3\", \"Topic3\", \"Topic3\", \"Topic3\", \"Topic3\", \"Topic3\", \"Topic3\", \"Topic3\", \"Topic3\", \"Topic3\", \"Topic3\", \"Topic3\", \"Topic3\", \"Topic3\", \"Topic3\", \"Topic3\", \"Topic3\", \"Topic3\", \"Topic3\", \"Topic3\", \"Topic3\", \"Topic3\", \"Topic3\", \"Topic3\", \"Topic3\", \"Topic4\", \"Topic4\", \"Topic4\", \"Topic4\", \"Topic4\", \"Topic4\", \"Topic4\", \"Topic4\", \"Topic4\", \"Topic4\", \"Topic4\", \"Topic4\", \"Topic4\", \"Topic4\", \"Topic4\", \"Topic4\", \"Topic4\", \"Topic4\", \"Topic4\", \"Topic4\", \"Topic4\", \"Topic4\", \"Topic4\", \"Topic4\", \"Topic4\", \"Topic4\", \"Topic4\", \"Topic4\", \"Topic4\", \"Topic4\", \"Topic4\", \"Topic4\", \"Topic4\", \"Topic4\", \"Topic4\", \"Topic4\", \"Topic4\", \"Topic4\", \"Topic4\", \"Topic4\", \"Topic5\", \"Topic5\", \"Topic5\", \"Topic5\", \"Topic5\", \"Topic5\", \"Topic5\", \"Topic5\", \"Topic5\", \"Topic5\", \"Topic5\", \"Topic5\", \"Topic5\", \"Topic5\", \"Topic5\", \"Topic5\", \"Topic5\", \"Topic5\", \"Topic5\", \"Topic5\", \"Topic5\", \"Topic5\", \"Topic5\", \"Topic5\", \"Topic5\", \"Topic5\", \"Topic5\", \"Topic5\", \"Topic5\", \"Topic5\", \"Topic5\", \"Topic5\", \"Topic5\", \"Topic5\", \"Topic5\", \"Topic5\", \"Topic5\", \"Topic5\"], \"logprob\": [30.0, 29.0, 28.0, 27.0, 26.0, 25.0, 24.0, 23.0, 22.0, 21.0, 20.0, 19.0, 18.0, 17.0, 16.0, 15.0, 14.0, 13.0, 12.0, 11.0, 10.0, 9.0, 8.0, 7.0, 6.0, 5.0, 4.0, 3.0, 2.0, 1.0, -4.6945, -4.0685, -5.0351, -5.0636, -5.0864, -5.1189, -5.1305, -5.1568, -5.1628, -5.1635, -5.2054, -5.2054, -4.7904, -5.275, -5.1916, -5.3155, -5.3155, -5.3299, -5.3299, -5.3299, -5.3716, -5.3716, -5.3716, -5.3716, -5.136, -5.1528, -5.3999, -5.4291, -5.4291, -4.4901, -5.2017, -5.0928, -4.822, -4.8065, -5.2173, -5.2028, -5.1382, -4.9873, -4.6057, -4.6755, -4.7518, -4.9682, -4.9865, -5.0654, -5.1447, -5.1447, -5.1447, -5.1447, -5.1659, -5.1659, -5.1659, -5.21, -5.21, -5.228, -5.228, -5.228, -5.2511, -5.2511, -5.2511, -5.2723, -5.2761, -4.8645, -5.3889, -5.2938, -5.2942, -5.4491, -4.4304, -5.0589, -4.7489, -5.1118, -5.1008, -5.2362, -5.2697, -4.6745, -4.8437, -4.5218, -4.876, -5.0117, -5.0117, -5.0431, -4.6563, -4.9189, -5.1922, -5.1922, -5.2037, -5.2037, -5.2037, -5.3058, -4.6583, -5.1756, -5.367, -5.367, -5.4186, -5.4538, -5.4538, -5.4538, -5.4538, -5.4538, -5.4538, -5.4538, -5.4538, -5.4538, -5.2697, -5.2275, -5.0833, -4.3097, -4.8022, -5.0323, -5.2291, -5.2594, -5.2725, -5.3116, -5.3001, -5.3225, -4.8264, -4.673, -4.9452, -4.9754, -4.9947, -4.9979, -5.0629, -5.2395, -5.1302, -5.145, -5.145, -5.3744, -5.3744, -5.3744, -5.3744, -5.3744, -5.3744, -5.3744, -5.4109, -5.4109, -5.4109, -5.4109, -5.4109, -5.4526, -5.4526, -5.4526, -5.4526, -5.4526, -5.4526, -5.4526, -5.0951, -5.126, -5.1814, -5.1145, -4.9794, -5.26, -5.3316, -5.2464, -5.3082, -5.3984, -3.7959, -4.6223, -4.9771, -4.9771, -4.9771, -4.9351, -4.7536, -4.6245, -5.3243, -5.3243, -5.3243, -5.3243, -5.3243, -5.3243, -3.7897, -5.3793, -5.3795, -5.3803, -5.4207, -4.7468, -5.1706, -5.2338, -6.1964, -6.1964, -6.1964, -6.1964, -6.1964, -6.1964, -6.1964, -6.1964, -5.3126, -5.5606, -6.1959, -6.196, -6.1961, -6.1961, -6.1961, -6.1961], \"loglift\": [30.0, 29.0, 28.0, 27.0, 26.0, 25.0, 24.0, 23.0, 22.0, 21.0, 20.0, 19.0, 18.0, 17.0, 16.0, 15.0, 14.0, 13.0, 12.0, 11.0, 10.0, 9.0, 8.0, 7.0, 6.0, 5.0, 4.0, 3.0, 2.0, 1.0, 0.8714, 0.8512, 0.7453, 0.7334, 0.7239, 0.71, 0.705, 0.6934, 0.6909, 0.6906, 0.6718, 0.6718, 0.6447, 0.6397, 0.621, 0.6205, 0.6205, 0.6136, 0.6136, 0.6136, 0.5932, 0.5932, 0.5932, 0.5932, 0.5909, 0.5905, 0.5791, 0.5644, 0.5644, 0.5326, 0.5241, 0.4816, 0.318, 0.1733, 0.4416, 0.3601, 0.1213, -0.358, 1.0419, 1.015, 0.9843, 0.8896, 0.881, 0.8432, 0.8037, 0.8037, 0.8037, 0.8037, 0.7929, 0.7929, 0.7929, 0.7699, 0.7699, 0.7604, 0.7604, 0.7604, 0.7482, 0.7482, 0.7482, 0.7368, 0.6917, 0.6775, 0.6721, 0.6494, 0.6206, 0.5909, 0.5494, 0.5041, 0.3911, 0.2846, -0.4714, 0.0233, 0.1872, 1.0182, 0.9481, 0.9413, 0.9339, 0.8715, 0.8715, 0.8565, 0.8315, 0.807, 0.7815, 0.7815, 0.7755, 0.7755, 0.7755, 0.7206, 0.7082, 0.7006, 0.6865, 0.6865, 0.657, 0.6366, 0.6366, 0.6366, 0.6366, 0.6366, 0.6366, 0.6366, 0.6366, 0.6366, 0.6241, 0.6147, 0.5643, 0.3196, 0.2205, 0.3641, 0.4841, 0.4919, 0.4146, 0.4418, 0.3475, 0.3364, 1.0542, 1.0346, 0.9941, 0.9782, 0.968, 0.9663, 0.9311, 0.8301, 0.7712, 0.7551, 0.7551, 0.7479, 0.7479, 0.7479, 0.7479, 0.7479, 0.7479, 0.7479, 0.7249, 0.7249, 0.7249, 0.7249, 0.7249, 0.6983, 0.6983, 0.6983, 0.6983, 0.6983, 0.6983, 0.6983, 0.6583, 0.5612, 0.5118, 0.252, -0.3501, 0.1969, 0.3816, -0.1065, -0.0487, -0.4788, 1.7291, 1.3673, 1.1426, 1.1426, 1.1426, 1.1238, 0.9731, 0.9499, 0.8959, 0.8959, 0.8959, 0.8959, 0.8959, 0.8959, 0.8396, 0.7386, 0.717, 0.5344, 0.5262, 0.5127, 0.2863, 0.1626, 0.1158, 0.1158, 0.1158, 0.1158, 0.1158, 0.1158, 0.1158, 0.1158, -0.3328, -0.4206, -1.2763, -1.1733, -0.6541, -0.7083, -0.5029, -0.6332]}, \"token.table\": {\"Topic\": [1], \"Freq\": [0.9080938552524871], \"Term\": [\"love\"]}, \"R\": 30, \"lambda.step\": 0.01, \"plot.opts\": {\"xlab\": \"PC1\", \"ylab\": \"PC2\"}, \"topic.order\": [2, 4, 3, 1, 5]};\n",
       "\n",
       "function LDAvis_load_lib(url, callback){\n",
       "  var s = document.createElement('script');\n",
       "  s.src = url;\n",
       "  s.async = true;\n",
       "  s.onreadystatechange = s.onload = callback;\n",
       "  s.onerror = function(){console.warn(\"failed to load library \" + url);};\n",
       "  document.getElementsByTagName(\"head\")[0].appendChild(s);\n",
       "}\n",
       "\n",
       "if(typeof(LDAvis) !== \"undefined\"){\n",
       "   // already loaded: just create the visualization\n",
       "   !function(LDAvis){\n",
       "       new LDAvis(\"#\" + \"ldavis_el12721399065451206723908903687\", ldavis_el12721399065451206723908903687_data);\n",
       "   }(LDAvis);\n",
       "}else if(typeof define === \"function\" && define.amd){\n",
       "   // require.js is available: use it to load d3/LDAvis\n",
       "   require.config({paths: {d3: \"https://d3js.org/d3.v5\"}});\n",
       "   require([\"d3\"], function(d3){\n",
       "      window.d3 = d3;\n",
       "      LDAvis_load_lib(\"https://cdn.jsdelivr.net/gh/bmabey/pyLDAvis@3.4.0/pyLDAvis/js/ldavis.v3.0.0.js\", function(){\n",
       "        new LDAvis(\"#\" + \"ldavis_el12721399065451206723908903687\", ldavis_el12721399065451206723908903687_data);\n",
       "      });\n",
       "    });\n",
       "}else{\n",
       "    // require.js not available: dynamically load d3 & LDAvis\n",
       "    LDAvis_load_lib(\"https://d3js.org/d3.v5.js\", function(){\n",
       "         LDAvis_load_lib(\"https://cdn.jsdelivr.net/gh/bmabey/pyLDAvis@3.4.0/pyLDAvis/js/ldavis.v3.0.0.js\", function(){\n",
       "                 new LDAvis(\"#\" + \"ldavis_el12721399065451206723908903687\", ldavis_el12721399065451206723908903687_data);\n",
       "            })\n",
       "         });\n",
       "}\n",
       "</script>"
      ],
      "text/plain": [
       "<IPython.core.display.HTML object>"
      ]
     },
     "execution_count": 12,
     "metadata": {},
     "output_type": "execute_result"
    }
   ],
   "source": [
    "import pyLDAvis\n",
    "import pyLDAvis.lda_model\n",
    "\n",
    "# Prepare the LDA visualization for positive reviews\n",
    "pyLDAvis.enable_notebook()\n",
    "panel_positive = pyLDAvis.lda_model.prepare(lda_positive, positive_tfidf, vectorizer_positive)\n",
    "print(\"LDA Visualization for Positive Reviews\")\n",
    "pyLDAvis.display(panel_positive)\n"
   ]
  },
  {
   "cell_type": "code",
   "execution_count": 13,
   "id": "6f116964-faf8-47ed-8ede-1c750e51b210",
   "metadata": {},
   "outputs": [
    {
     "name": "stdout",
     "output_type": "stream",
     "text": [
      "LDA Visualization for Negative Reviews\n"
     ]
    },
    {
     "data": {
      "text/html": [
       "\n",
       "<link rel=\"stylesheet\" type=\"text/css\" href=\"https://cdn.jsdelivr.net/gh/bmabey/pyLDAvis@3.4.0/pyLDAvis/js/ldavis.v1.0.0.css\">\n",
       "\n",
       "\n",
       "<div id=\"ldavis_el12721399069596200483695831756\" style=\"background-color:white;\"></div>\n",
       "<script type=\"text/javascript\">\n",
       "\n",
       "var ldavis_el12721399069596200483695831756_data = {\"mdsDat\": {\"x\": [-0.014450558427474398, 0.025203803844139262, -0.006944911776632, -0.0022502947473757927, -0.0015580388926570714], \"y\": [0.019057890785231513, 0.004975704966235276, -0.020268278502961184, -0.00485738839846019, 0.0010920711499545974], \"topics\": [1, 2, 3, 4, 5], \"cluster\": [1, 1, 1, 1, 1], \"Freq\": [25.891487776553586, 24.555076822056062, 20.846898313397013, 19.536841760783773, 9.169695327209567]}, \"tinfo\": {\"Term\": [\"failed\", \"sucks\", \"sounds\", \"priced\", \"ok\", \"great\", \"lot\", \"need\", \"work\", \"stars\", \"like\", \"fit\", \"xl\", \"use\", \"wouldnt\", \"plug\", \"good\", \"scratchy\", \"keyed\", \"excelente\", \"producto\", \"music\", \"minimal\", \"menus\", \"stores\", \"intuitive\", \"features\", \"maneuver\", \"able\", \"sound\", \"need\", \"plug\", \"dvr\", \"cover\", \"ft\", \"trip\", \"days\", \"band\", \"collapsable\", \"connector\", \"designed\", \"foldable\", \"information\", \"operating\", \"sell\", \"supplying\", \"typebr\", \"did\", \"used\", \"away\", \"connection\", \"constantly\", \"description\", \"looks\", \"loses\", \"nice\", \"set\", \"states\", \"cap\", \"read\", \"battery\", \"ive\", \"bought\", \"make\", \"better\", \"device\", \"just\", \"good\", \"really\", \"keyed\", \"scratchy\", \"excelente\", \"producto\", \"compass\", \"reliable\", \"pretty\", \"careful\", \"cameras\", \"decent\", \"hold\", \"image\", \"works\", \"dont\", \"know\", \"glare\", \"gps\", \"return\", \"alert\", \"beware\", \"buying\", \"hassle\", \"legal\", \"plugging\", \"saying\", \"really\", \"product\", \"overall\", \"came\", \"say\", \"charge\", \"phone\", \"products\", \"device\", \"stars\", \"fit\", \"xl\", \"wouldnt\", \"appears\", \"items\", \"radiobatteriescharger\", \"waiting\", \"advertised\", \"disappointment\", \"low\", \"output\", \"real\", \"size\", \"app\", \"china\", \"does\", \"brick\", \"exchanged\", \"new\", \"useless\", \"poor\", \"im\", \"arrived\", \"didnt\", \"chineese\", \"concern\", \"developed\", \"electronics\", \"far\", \"sound\", \"quality\", \"work\", \"works\", \"good\", \"just\", \"ok\", \"desired\", \"leaves\", \"players\", \"portable\", \"usiness\", \"second\", \"louder\", \"maker\", \"use\", \"speaker\", \"doesnt\", \"like\", \"different\", \"volume\", \"charger\", \"store\", \"wasnt\", \"went\", \"wont\", \"worth\", \"good\", \"forever\", \"forget\", \"frankly\", \"intermittently\", \"isnt\", \"people\", \"stick\", \"takes\", \"bluetooth\", \"easy\", \"phone\", \"sound\", \"quality\", \"apple\", \"looking\", \"failed\", \"charge\", \"battery\", \"sucks\", \"sounds\", \"failed\", \"priced\", \"great\", \"lot\", \"able\", \"features\", \"intuitive\", \"maneuver\", \"menus\", \"minimal\", \"music\", \"stores\", \"work\", \"difficult\", \"instructions\", \"like\", \"use\", \"amazonlike\", \"basically\", \"bewarebr\", \"black\", \"car\", \"cases\", \"certified\", \"claim\", \"clear\", \"complete\", \"devices\", \"good\", \"just\", \"does\", \"battery\", \"charge\", \"im\", \"products\", \"device\", \"working\", \"ok\", \"reviews\"], \"Freq\": [0.0, 0.0, 0.0, 0.0, 0.0, 0.0, 0.0, 0.0, 0.0, 0.0, 0.0, 0.0, 0.0, 0.0, 0.0, 0.0, 0.0, 0.0, 0.0, 0.0, 0.0, 0.0, 0.0, 0.0, 0.0, 0.0, 0.0, 0.0, 0.0, 0.0, 0.32290309535455636, 0.2441990408471245, 0.20034719911962376, 0.1753235342180119, 0.17397848816965536, 0.15371281599834685, 0.15006474564566344, 0.12041339121907829, 0.12041339121907829, 0.12041339121907829, 0.12041339121907829, 0.12041339121907829, 0.12041339121907829, 0.12041339121907829, 0.12041339121907829, 0.12041339121907829, 0.12041339121907829, 0.11386159491490545, 0.11312707334735797, 0.11200341259515247, 0.11200341259515247, 0.11200341259515247, 0.11200341259515247, 0.11200341259515247, 0.11200341259515247, 0.11200341259515247, 0.11200341259515247, 0.11200341259515247, 0.11041477713064478, 0.11041477713064478, 0.1943055261446283, 0.12398667197911234, 0.12455676589127278, 0.11536959230937414, 0.11536878121250316, 0.11492987063897057, 0.11524317212548187, 0.11616458143631431, 0.11221200087596246, 0.21706633372626355, 0.21706633372626355, 0.21706633367747236, 0.21706633367747236, 0.1569207276203955, 0.1569207276203955, 0.15190482297727353, 0.1473994512245734, 0.12897360332623284, 0.12897360332623284, 0.12897360332623284, 0.12897360332623284, 0.1616670366445688, 0.14510182787108933, 0.14510182787108933, 0.11925978410169838, 0.11925978410169838, 0.12667129772608626, 0.11404402071988815, 0.11404402071988815, 0.11404402071988815, 0.11404402071988815, 0.11404402071988815, 0.11404402071988815, 0.11404402071988815, 0.15313604315770155, 0.10914409143908382, 0.1069467423378691, 0.10684979861653292, 0.10184446311309135, 0.15902315272110726, 0.14757888524816903, 0.11391971034223648, 0.11967715325448336, 0.17981677325096543, 0.17244111474346563, 0.17244111474346563, 0.16817096990405733, 0.12979429029180864, 0.12979429029180864, 0.12979429029180864, 0.12979429029180864, 0.12928132928363717, 0.12385490748241769, 0.12385490748241769, 0.12385490748241769, 0.12385490748241769, 0.12385490748241769, 0.11172516696780435, 0.11172516696780435, 0.14840690636756643, 0.10528699432459937, 0.10528699432459937, 0.10528699432459937, 0.10528699432459937, 0.11498945888455639, 0.11359960280855172, 0.09845853253918285, 0.09880037943957938, 0.07706757126947131, 0.07706757126947131, 0.07706757126947131, 0.07706757126947131, 0.07706757126947131, 0.1468544373534837, 0.1240932412150683, 0.08964211816416465, 0.09334733125900417, 0.09990413535753989, 0.09126135736559488, 0.241991662995285, 0.11767512969890956, 0.11767512969890956, 0.11767512969890956, 0.11767512969890956, 0.11767512969890956, 0.11616307330564633, 0.1158530876215266, 0.1158530876215266, 0.14739823835915603, 0.13450403299024688, 0.13447101491993144, 0.10925752024625988, 0.11176130910141827, 0.10765648168692012, 0.0919805729486742, 0.0919805729486742, 0.0919805729486742, 0.0919805729486742, 0.0919805729486742, 0.0919805729486742, 0.16756662153880997, 0.0803823935546741, 0.0803823935546741, 0.0803823935546741, 0.0803823935546741, 0.0803823935546741, 0.0803823935546741, 0.0803823935546741, 0.0803823935546741, 0.10767353507617329, 0.10767353507617329, 0.13979623949539624, 0.15001619240461914, 0.1332645892772338, 0.08636804924203027, 0.08636804924203027, 0.10771422858918582, 0.1182579110535298, 0.09833445558783409, 0.13014378269858623, 0.10481656545086562, 0.13023358310871594, 0.08912681190109602, 0.08186347977202817, 0.06788086296991322, 0.047580661533433405, 0.047580661533433405, 0.047580661533433405, 0.047580661533433405, 0.047580661533433405, 0.047580661533433405, 0.047580661533433405, 0.047580661533433405, 0.06087180370755953, 0.04476463300442775, 0.04474632252661175, 0.04473096374526459, 0.039823551309503796, 0.021694923489876027, 0.021694923489876027, 0.021694923489876027, 0.021694923489876027, 0.021694923489876027, 0.021694923489876027, 0.021694923489876027, 0.021694923489876027, 0.021694923489876027, 0.021694923489876027, 0.021694923489876027, 0.03865262544889503, 0.021700964714709545, 0.02170095134563415, 0.021700044897286982, 0.021699903945560182, 0.02169955978104794, 0.021699381443035813, 0.021699198606196315, 0.021699071142221735, 0.02169906709975482, 0.021698734770449993], \"Total\": [0.0, 0.0, 0.0, 0.0, 0.0, 0.0, 0.0, 0.0, 0.0, 0.0, 0.0, 0.0, 0.0, 0.0, 0.0, 0.0, 0.0, 0.0, 0.0, 0.0, 0.0, 0.0, 0.0, 0.0, 0.0, 0.0, 0.0, 0.0, 0.0, 0.0, 0.5019750515704252, 0.39654934727874547, 0.35268101494969606, 0.32765517403481165, 0.32631318503909734, 0.3060419251160601, 0.30239680780759953, 0.2727528961259853, 0.2727528961259853, 0.2727528961259853, 0.2727528961259853, 0.2727528961259853, 0.2727528961259853, 0.2727528961259853, 0.2727528961259853, 0.2727528961259853, 0.2727528961259853, 0.2661927532114958, 0.26546317418983156, 0.26434212378322997, 0.26434212378322997, 0.26434212378322997, 0.26434212378322997, 0.26434212378322997, 0.26434212378322997, 0.26434212378322997, 0.26434212378322997, 0.26434212378322997, 0.2627471948686354, 0.2627471948686354, 0.46538174692323736, 0.30603571075014113, 0.34278480332639205, 0.29485104543939983, 0.3002317450249816, 0.3633328762763649, 0.39910790900601956, 0.47017143514481907, 0.36982466324624846, 0.3716040242777813, 0.3716040242777813, 0.3716040242641054, 0.3716040242641054, 0.3114486833117774, 0.3114486833117774, 0.3064265180157332, 0.3019212855016003, 0.28349885440054656, 0.28349885440054656, 0.28349885440054656, 0.28349885440054656, 0.36712245817730427, 0.33039712788105274, 0.33039712788105274, 0.2737781808346427, 0.2737781808346427, 0.29796154337147074, 0.2685688425375005, 0.2685688425375005, 0.2685688425375005, 0.2685688425375005, 0.2685688425375005, 0.2685688425375005, 0.2685688425375005, 0.36982466324624846, 0.2636617534309331, 0.26146524691134376, 0.27979136853504327, 0.2731703587077879, 0.43843269396063245, 0.42391843416024266, 0.31336485038399015, 0.3633328762763649, 0.3397781855577024, 0.33241439818195007, 0.33241439818195007, 0.328134600232484, 0.28976200043227585, 0.28976200043227585, 0.28976200043227585, 0.28976200043227585, 0.28924461290406767, 0.2838218345181117, 0.2838218345181117, 0.2838218345181117, 0.2838218345181117, 0.2838218345181117, 0.2716849085107329, 0.2716849085107329, 0.3638373937673454, 0.2652550594018003, 0.2652550594018003, 0.2652550594018003, 0.2652550594018003, 0.32092465750043564, 0.31928436810020755, 0.285252899685596, 0.30012185684477294, 0.2370305204790728, 0.2370305204790728, 0.2370305204790728, 0.2370305204790728, 0.2370305204790728, 0.45938086885217694, 0.41924639688729004, 0.32716923922184193, 0.36712245817730427, 0.47017143514481907, 0.39910790900601956, 0.4040670369272243, 0.2797300377150564, 0.2797300377150564, 0.2797300377150564, 0.2797300377150564, 0.2797300377150564, 0.27821134885245785, 0.27790626179473255, 0.27790626179473255, 0.3668296169837222, 0.34669067958732036, 0.362283367893003, 0.2943589320509663, 0.3035120011480538, 0.2969258960824442, 0.254032652270454, 0.254032652270454, 0.254032652270454, 0.254032652270454, 0.254032652270454, 0.254032652270454, 0.47017143514481907, 0.24243428235461795, 0.24243428235461795, 0.24243428235461795, 0.24243428235461795, 0.24243428235461795, 0.24243428235461795, 0.24243428235461795, 0.24243428235461795, 0.3248173648507888, 0.3248173648507888, 0.42391843416024266, 0.45938086885217694, 0.41924639688729004, 0.26683896840408494, 0.26683896840408494, 0.3783281611409258, 0.43843269396063245, 0.46538174692323736, 0.31086227237546477, 0.285516666450336, 0.3783281611409258, 0.2698314694652418, 0.29803966300736684, 0.26688358903857357, 0.22827798185587822, 0.22827798185587822, 0.22827798185587822, 0.22827798185587822, 0.22827798185587822, 0.22827798185587822, 0.22827798185587822, 0.22827798185587822, 0.32716923922184193, 0.25271965807352426, 0.2792202791881698, 0.2943589320509663, 0.3668296169837222, 0.22310741759871958, 0.22310741759871958, 0.22310741759871958, 0.22310741759871958, 0.22310741759871958, 0.22310741759871958, 0.22310741759871958, 0.22310741759871958, 0.22310741759871958, 0.22310741759871958, 0.22310741759871958, 0.47017143514481907, 0.39910790900601956, 0.3638373937673454, 0.46538174692323736, 0.43843269396063245, 0.31928436810020755, 0.31336485038399015, 0.3633328762763649, 0.3048683984267245, 0.4040670369272243, 0.2749676106665763], \"Category\": [\"Default\", \"Default\", \"Default\", \"Default\", \"Default\", \"Default\", \"Default\", \"Default\", \"Default\", \"Default\", \"Default\", \"Default\", \"Default\", \"Default\", \"Default\", \"Default\", \"Default\", \"Default\", \"Default\", \"Default\", \"Default\", \"Default\", \"Default\", \"Default\", \"Default\", \"Default\", \"Default\", \"Default\", \"Default\", \"Default\", \"Topic1\", \"Topic1\", \"Topic1\", \"Topic1\", \"Topic1\", \"Topic1\", \"Topic1\", \"Topic1\", \"Topic1\", \"Topic1\", \"Topic1\", \"Topic1\", \"Topic1\", \"Topic1\", \"Topic1\", \"Topic1\", \"Topic1\", \"Topic1\", \"Topic1\", \"Topic1\", \"Topic1\", \"Topic1\", \"Topic1\", \"Topic1\", \"Topic1\", \"Topic1\", \"Topic1\", \"Topic1\", \"Topic1\", \"Topic1\", \"Topic1\", \"Topic1\", \"Topic1\", \"Topic1\", \"Topic1\", \"Topic1\", \"Topic1\", \"Topic1\", \"Topic1\", \"Topic2\", \"Topic2\", \"Topic2\", \"Topic2\", \"Topic2\", \"Topic2\", \"Topic2\", \"Topic2\", \"Topic2\", \"Topic2\", \"Topic2\", \"Topic2\", \"Topic2\", \"Topic2\", \"Topic2\", \"Topic2\", \"Topic2\", \"Topic2\", \"Topic2\", \"Topic2\", \"Topic2\", \"Topic2\", \"Topic2\", \"Topic2\", \"Topic2\", \"Topic2\", \"Topic2\", \"Topic2\", \"Topic2\", \"Topic2\", \"Topic2\", \"Topic2\", \"Topic2\", \"Topic2\", \"Topic3\", \"Topic3\", \"Topic3\", \"Topic3\", \"Topic3\", \"Topic3\", \"Topic3\", \"Topic3\", \"Topic3\", \"Topic3\", \"Topic3\", \"Topic3\", \"Topic3\", \"Topic3\", \"Topic3\", \"Topic3\", \"Topic3\", \"Topic3\", \"Topic3\", \"Topic3\", \"Topic3\", \"Topic3\", \"Topic3\", \"Topic3\", \"Topic3\", \"Topic3\", \"Topic3\", \"Topic3\", \"Topic3\", \"Topic3\", \"Topic3\", \"Topic3\", \"Topic3\", \"Topic3\", \"Topic3\", \"Topic3\", \"Topic4\", \"Topic4\", \"Topic4\", \"Topic4\", \"Topic4\", \"Topic4\", \"Topic4\", \"Topic4\", \"Topic4\", \"Topic4\", \"Topic4\", \"Topic4\", \"Topic4\", \"Topic4\", \"Topic4\", \"Topic4\", \"Topic4\", \"Topic4\", \"Topic4\", \"Topic4\", \"Topic4\", \"Topic4\", \"Topic4\", \"Topic4\", \"Topic4\", \"Topic4\", \"Topic4\", \"Topic4\", \"Topic4\", \"Topic4\", \"Topic4\", \"Topic4\", \"Topic4\", \"Topic4\", \"Topic4\", \"Topic4\", \"Topic4\", \"Topic4\", \"Topic4\", \"Topic4\", \"Topic5\", \"Topic5\", \"Topic5\", \"Topic5\", \"Topic5\", \"Topic5\", \"Topic5\", \"Topic5\", \"Topic5\", \"Topic5\", \"Topic5\", \"Topic5\", \"Topic5\", \"Topic5\", \"Topic5\", \"Topic5\", \"Topic5\", \"Topic5\", \"Topic5\", \"Topic5\", \"Topic5\", \"Topic5\", \"Topic5\", \"Topic5\", \"Topic5\", \"Topic5\", \"Topic5\", \"Topic5\", \"Topic5\", \"Topic5\", \"Topic5\", \"Topic5\", \"Topic5\", \"Topic5\", \"Topic5\", \"Topic5\", \"Topic5\", \"Topic5\", \"Topic5\", \"Topic5\", \"Topic5\"], \"logprob\": [30.0, 29.0, 28.0, 27.0, 26.0, 25.0, 24.0, 23.0, 22.0, 21.0, 20.0, 19.0, 18.0, 17.0, 16.0, 15.0, 14.0, 13.0, 12.0, 11.0, 10.0, 9.0, 8.0, 7.0, 6.0, 5.0, 4.0, 3.0, 2.0, 1.0, -4.4131, -4.6925, -4.8904, -5.0238, -5.0315, -5.1554, -5.1794, -5.3995, -5.3995, -5.3995, -5.3995, -5.3995, -5.3995, -5.3995, -5.3995, -5.3995, -5.3995, -5.4555, -5.462, -5.4719, -5.4719, -5.4719, -5.4719, -5.4719, -5.4719, -5.4719, -5.4719, -5.4719, -5.4862, -5.4862, -4.921, -5.3703, -5.3657, -5.4423, -5.4423, -5.4461, -5.4434, -5.4355, -5.4701, -4.7573, -4.7573, -4.7573, -4.7573, -5.0817, -5.0817, -5.1142, -5.1443, -5.2779, -5.2779, -5.2779, -5.2779, -5.0519, -5.16, -5.16, -5.3562, -5.3562, -5.2959, -5.4009, -5.4009, -5.4009, -5.4009, -5.4009, -5.4009, -5.4009, -5.1061, -5.4448, -5.4651, -5.466, -5.514, -5.0684, -5.1431, -5.402, -5.3527, -4.7818, -4.8237, -4.8237, -4.8488, -5.1078, -5.1078, -5.1078, -5.1078, -5.1118, -5.1546, -5.1546, -5.1546, -5.1546, -5.1546, -5.2577, -5.2577, -4.9738, -5.3171, -5.3171, -5.3171, -5.3171, -5.2289, -5.2411, -5.3841, -5.3807, -5.6291, -5.6291, -5.6291, -5.6291, -5.6291, -4.9843, -5.1527, -5.4779, -5.4374, -5.3695, -5.46, -4.4199, -5.1409, -5.1409, -5.1409, -5.1409, -5.1409, -5.1539, -5.1565, -5.1565, -4.9157, -5.0073, -5.0075, -5.2151, -5.1925, -5.2299, -5.3873, -5.3873, -5.3873, -5.3873, -5.3873, -5.3873, -4.7875, -5.5221, -5.5221, -5.5221, -5.5221, -5.5221, -5.5221, -5.5221, -5.5221, -5.2297, -5.2297, -4.9687, -4.8981, -5.0165, -5.4502, -5.4502, -5.2294, -5.136, -5.3205, -4.2838, -4.5002, -4.2831, -4.6624, -4.7474, -4.9347, -5.29, -5.29, -5.29, -5.29, -5.29, -5.29, -5.29, -5.29, -5.0437, -5.351, -5.3514, -5.3518, -5.468, -6.0754, -6.0754, -6.0754, -6.0754, -6.0754, -6.0754, -6.0754, -6.0754, -6.0754, -6.0754, -6.0754, -5.4978, -6.0751, -6.0751, -6.0751, -6.0751, -6.0752, -6.0752, -6.0752, -6.0752, -6.0752, -6.0752], \"loglift\": [30.0, 29.0, 28.0, 27.0, 26.0, 25.0, 24.0, 23.0, 22.0, 21.0, 20.0, 19.0, 18.0, 17.0, 16.0, 15.0, 14.0, 13.0, 12.0, 11.0, 10.0, 9.0, 8.0, 7.0, 6.0, 5.0, 4.0, 3.0, 2.0, 1.0, 0.9101, 0.8664, 0.7857, 0.7259, 0.7223, 0.6626, 0.6506, 0.5336, 0.5336, 0.5336, 0.5336, 0.5336, 0.5336, 0.5336, 0.5336, 0.5336, 0.5336, 0.502, 0.4983, 0.4925, 0.4925, 0.4925, 0.4925, 0.4925, 0.4925, 0.4925, 0.4925, 0.4925, 0.4843, 0.4843, 0.4778, 0.4477, 0.3389, 0.4129, 0.3948, 0.2003, 0.1091, -0.0468, 0.1586, 0.8666, 0.8666, 0.8666, 0.8666, 0.7188, 0.7188, 0.7025, 0.6872, 0.6167, 0.6167, 0.6167, 0.6167, 0.5841, 0.5814, 0.5814, 0.5732, 0.5732, 0.5489, 0.5477, 0.5477, 0.5477, 0.5477, 0.5477, 0.5477, 0.5477, 0.5225, 0.5223, 0.5103, 0.4416, 0.4176, 0.3901, 0.3491, 0.3924, 0.2937, 0.9316, 0.9116, 0.9116, 0.8995, 0.7649, 0.7649, 0.7649, 0.7649, 0.7627, 0.7387, 0.7387, 0.7387, 0.7387, 0.7387, 0.6794, 0.6794, 0.6712, 0.644, 0.644, 0.644, 0.644, 0.5416, 0.5346, 0.5042, 0.4569, 0.4445, 0.4445, 0.4445, 0.4445, 0.4445, 0.4275, 0.3505, 0.2733, 0.1986, 0.0191, 0.0925, 1.1202, 0.767, 0.767, 0.767, 0.767, 0.767, 0.7595, 0.7579, 0.7579, 0.7211, 0.686, 0.6418, 0.6418, 0.6338, 0.6183, 0.617, 0.617, 0.617, 0.617, 0.617, 0.617, 0.6012, 0.5289, 0.5289, 0.5289, 0.5289, 0.5289, 0.5289, 0.5289, 0.5289, 0.5287, 0.5287, 0.5235, 0.5137, 0.4867, 0.5048, 0.5048, 0.3766, 0.3225, 0.0784, 1.5186, 1.3872, 1.3228, 1.2815, 1.0971, 1.0202, 0.8211, 0.8211, 0.8211, 0.8211, 0.8211, 0.8211, 0.8211, 0.8211, 0.7076, 0.6584, 0.5583, 0.5051, 0.1688, 0.0587, 0.0587, 0.0587, 0.0587, 0.0587, 0.0587, 0.0587, 0.0587, 0.0587, 0.0587, 0.0587, -0.1092, -0.5226, -0.4301, -0.6763, -0.6166, -0.2995, -0.2808, -0.4288, -0.2533, -0.535, -0.1501]}, \"token.table\": {\"Topic\": [], \"Freq\": [], \"Term\": []}, \"R\": 30, \"lambda.step\": 0.01, \"plot.opts\": {\"xlab\": \"PC1\", \"ylab\": \"PC2\"}, \"topic.order\": [4, 3, 5, 2, 1]};\n",
       "\n",
       "function LDAvis_load_lib(url, callback){\n",
       "  var s = document.createElement('script');\n",
       "  s.src = url;\n",
       "  s.async = true;\n",
       "  s.onreadystatechange = s.onload = callback;\n",
       "  s.onerror = function(){console.warn(\"failed to load library \" + url);};\n",
       "  document.getElementsByTagName(\"head\")[0].appendChild(s);\n",
       "}\n",
       "\n",
       "if(typeof(LDAvis) !== \"undefined\"){\n",
       "   // already loaded: just create the visualization\n",
       "   !function(LDAvis){\n",
       "       new LDAvis(\"#\" + \"ldavis_el12721399069596200483695831756\", ldavis_el12721399069596200483695831756_data);\n",
       "   }(LDAvis);\n",
       "}else if(typeof define === \"function\" && define.amd){\n",
       "   // require.js is available: use it to load d3/LDAvis\n",
       "   require.config({paths: {d3: \"https://d3js.org/d3.v5\"}});\n",
       "   require([\"d3\"], function(d3){\n",
       "      window.d3 = d3;\n",
       "      LDAvis_load_lib(\"https://cdn.jsdelivr.net/gh/bmabey/pyLDAvis@3.4.0/pyLDAvis/js/ldavis.v3.0.0.js\", function(){\n",
       "        new LDAvis(\"#\" + \"ldavis_el12721399069596200483695831756\", ldavis_el12721399069596200483695831756_data);\n",
       "      });\n",
       "    });\n",
       "}else{\n",
       "    // require.js not available: dynamically load d3 & LDAvis\n",
       "    LDAvis_load_lib(\"https://d3js.org/d3.v5.js\", function(){\n",
       "         LDAvis_load_lib(\"https://cdn.jsdelivr.net/gh/bmabey/pyLDAvis@3.4.0/pyLDAvis/js/ldavis.v3.0.0.js\", function(){\n",
       "                 new LDAvis(\"#\" + \"ldavis_el12721399069596200483695831756\", ldavis_el12721399069596200483695831756_data);\n",
       "            })\n",
       "         });\n",
       "}\n",
       "</script>"
      ],
      "text/plain": [
       "<IPython.core.display.HTML object>"
      ]
     },
     "execution_count": 13,
     "metadata": {},
     "output_type": "execute_result"
    }
   ],
   "source": [
    "# Prepare the LDA visualization for negative reviews\n",
    "panel_negative = pyLDAvis.lda_model.prepare(lda_negative, negative_tfidf, vectorizer_negative)\n",
    "print(\"LDA Visualization for Negative Reviews\")\n",
    "pyLDAvis.display(panel_negative)"
   ]
  },
  {
   "cell_type": "markdown",
   "id": "4d117925-5b97-4a9e-aa1c-12a0e3cebb6b",
   "metadata": {},
   "source": [
    "# Pattern Discovery in Negative Reviews using Apriori Algorithm\n",
    "\n",
    "In this notebook, we will use the Apriori algorithm to discover patterns of co-occurring words in negative reviews from the Amazon dataset. The Apriori algorithm is a classic algorithm in data mining for learning association rules. It is designed to operate on databases containing transactions (for example, collections of items bought by customers or words appearing in reviews).\n",
    "\n",
    "The steps involved are:\n",
    "\n",
    "1. Preprocess the text data to generate word transactions for negative reviews.\n",
    "2. Apply the Apriori algorithm to discover frequent itemsets of words.\n",
    "3. Extract association rules from the frequent itemsets.\n",
    "4. Visualize the top association rules based on lift.\n",
    "\n",
    "This approach will help us identify common patterns and co-occurrences in the words used in negative reviews, which can provide insights into common issues or themes.\n"
   ]
  },
  {
   "cell_type": "markdown",
   "id": "359c838d-9251-4c92-adc2-c581ca9a6e56",
   "metadata": {},
   "source": [
    "## Preprocessing for Apriori Algorithm\n",
    "\n",
    "We will preprocess the text data to generate word transactions for negative reviews.\n"
   ]
  },
  {
   "cell_type": "code",
   "execution_count": 14,
   "id": "b85c730e-12f4-4842-a9f6-51fd3979eac4",
   "metadata": {},
   "outputs": [
    {
     "data": {
      "text/html": [
       "<div>\n",
       "<style scoped>\n",
       "    .dataframe tbody tr th:only-of-type {\n",
       "        vertical-align: middle;\n",
       "    }\n",
       "\n",
       "    .dataframe tbody tr th {\n",
       "        vertical-align: top;\n",
       "    }\n",
       "\n",
       "    .dataframe thead th {\n",
       "        text-align: right;\n",
       "    }\n",
       "</style>\n",
       "<table border=\"1\" class=\"dataframe\">\n",
       "  <thead>\n",
       "    <tr style=\"text-align: right;\">\n",
       "      <th></th>\n",
       "      <th>a</th>\n",
       "      <th>able</th>\n",
       "      <th>about</th>\n",
       "      <th>actually</th>\n",
       "      <th>address</th>\n",
       "      <th>advertised</th>\n",
       "      <th>afford</th>\n",
       "      <th>after</th>\n",
       "      <th>alert</th>\n",
       "      <th>all</th>\n",
       "      <th>...</th>\n",
       "      <th>works</th>\n",
       "      <th>worst</th>\n",
       "      <th>worth</th>\n",
       "      <th>would</th>\n",
       "      <th>wouldnt</th>\n",
       "      <th>wrong</th>\n",
       "      <th>xl</th>\n",
       "      <th>yet</th>\n",
       "      <th>you</th>\n",
       "      <th>your</th>\n",
       "    </tr>\n",
       "  </thead>\n",
       "  <tbody>\n",
       "    <tr>\n",
       "      <th>0</th>\n",
       "      <td>False</td>\n",
       "      <td>False</td>\n",
       "      <td>False</td>\n",
       "      <td>False</td>\n",
       "      <td>False</td>\n",
       "      <td>False</td>\n",
       "      <td>False</td>\n",
       "      <td>False</td>\n",
       "      <td>False</td>\n",
       "      <td>False</td>\n",
       "      <td>...</td>\n",
       "      <td>False</td>\n",
       "      <td>False</td>\n",
       "      <td>False</td>\n",
       "      <td>False</td>\n",
       "      <td>False</td>\n",
       "      <td>False</td>\n",
       "      <td>False</td>\n",
       "      <td>False</td>\n",
       "      <td>False</td>\n",
       "      <td>False</td>\n",
       "    </tr>\n",
       "    <tr>\n",
       "      <th>1</th>\n",
       "      <td>False</td>\n",
       "      <td>False</td>\n",
       "      <td>False</td>\n",
       "      <td>False</td>\n",
       "      <td>False</td>\n",
       "      <td>False</td>\n",
       "      <td>False</td>\n",
       "      <td>False</td>\n",
       "      <td>False</td>\n",
       "      <td>False</td>\n",
       "      <td>...</td>\n",
       "      <td>False</td>\n",
       "      <td>False</td>\n",
       "      <td>False</td>\n",
       "      <td>False</td>\n",
       "      <td>False</td>\n",
       "      <td>False</td>\n",
       "      <td>False</td>\n",
       "      <td>False</td>\n",
       "      <td>False</td>\n",
       "      <td>False</td>\n",
       "    </tr>\n",
       "    <tr>\n",
       "      <th>2</th>\n",
       "      <td>True</td>\n",
       "      <td>False</td>\n",
       "      <td>False</td>\n",
       "      <td>False</td>\n",
       "      <td>False</td>\n",
       "      <td>True</td>\n",
       "      <td>False</td>\n",
       "      <td>False</td>\n",
       "      <td>False</td>\n",
       "      <td>False</td>\n",
       "      <td>...</td>\n",
       "      <td>True</td>\n",
       "      <td>False</td>\n",
       "      <td>False</td>\n",
       "      <td>False</td>\n",
       "      <td>True</td>\n",
       "      <td>False</td>\n",
       "      <td>False</td>\n",
       "      <td>False</td>\n",
       "      <td>False</td>\n",
       "      <td>False</td>\n",
       "    </tr>\n",
       "    <tr>\n",
       "      <th>3</th>\n",
       "      <td>True</td>\n",
       "      <td>False</td>\n",
       "      <td>False</td>\n",
       "      <td>False</td>\n",
       "      <td>False</td>\n",
       "      <td>False</td>\n",
       "      <td>False</td>\n",
       "      <td>False</td>\n",
       "      <td>False</td>\n",
       "      <td>False</td>\n",
       "      <td>...</td>\n",
       "      <td>False</td>\n",
       "      <td>False</td>\n",
       "      <td>False</td>\n",
       "      <td>True</td>\n",
       "      <td>False</td>\n",
       "      <td>False</td>\n",
       "      <td>False</td>\n",
       "      <td>False</td>\n",
       "      <td>True</td>\n",
       "      <td>False</td>\n",
       "    </tr>\n",
       "    <tr>\n",
       "      <th>4</th>\n",
       "      <td>False</td>\n",
       "      <td>False</td>\n",
       "      <td>False</td>\n",
       "      <td>False</td>\n",
       "      <td>False</td>\n",
       "      <td>False</td>\n",
       "      <td>False</td>\n",
       "      <td>False</td>\n",
       "      <td>False</td>\n",
       "      <td>False</td>\n",
       "      <td>...</td>\n",
       "      <td>False</td>\n",
       "      <td>False</td>\n",
       "      <td>False</td>\n",
       "      <td>False</td>\n",
       "      <td>False</td>\n",
       "      <td>False</td>\n",
       "      <td>False</td>\n",
       "      <td>False</td>\n",
       "      <td>False</td>\n",
       "      <td>False</td>\n",
       "    </tr>\n",
       "  </tbody>\n",
       "</table>\n",
       "<p>5 rows × 517 columns</p>\n",
       "</div>"
      ],
      "text/plain": [
       "       a   able  about  actually  address  advertised  afford  after  alert  \\\n",
       "0  False  False  False     False    False       False   False  False  False   \n",
       "1  False  False  False     False    False       False   False  False  False   \n",
       "2   True  False  False     False    False        True   False  False  False   \n",
       "3   True  False  False     False    False       False   False  False  False   \n",
       "4  False  False  False     False    False       False   False  False  False   \n",
       "\n",
       "     all  ...  works  worst  worth  would  wouldnt  wrong     xl    yet  \\\n",
       "0  False  ...  False  False  False  False    False  False  False  False   \n",
       "1  False  ...  False  False  False  False    False  False  False  False   \n",
       "2  False  ...   True  False  False  False     True  False  False  False   \n",
       "3  False  ...  False  False  False   True    False  False  False  False   \n",
       "4  False  ...  False  False  False  False    False  False  False  False   \n",
       "\n",
       "     you   your  \n",
       "0  False  False  \n",
       "1  False  False  \n",
       "2  False  False  \n",
       "3   True  False  \n",
       "4  False  False  \n",
       "\n",
       "[5 rows x 517 columns]"
      ]
     },
     "execution_count": 14,
     "metadata": {},
     "output_type": "execute_result"
    }
   ],
   "source": [
    "from mlxtend.preprocessing import TransactionEncoder\n",
    "from mlxtend.frequent_patterns import apriori\n",
    "\n",
    "# Function to tokenize text into a list of words\n",
    "def tokenize(text):\n",
    "    return text.split()\n",
    "\n",
    "# Separate negative reviews\n",
    "negative_reviews = df[df['sentiment'] == 0]['cleaned_review']\n",
    "\n",
    "# Tokenize the negative reviews\n",
    "negative_reviews_tokens = negative_reviews.apply(tokenize)\n",
    "\n",
    "# Convert the tokenized reviews into a format suitable for the Apriori algorithm\n",
    "te = TransactionEncoder()\n",
    "te_ary = te.fit(negative_reviews_tokens).transform(negative_reviews_tokens)\n",
    "negative_reviews_df = pd.DataFrame(te_ary, columns=te.columns_)\n",
    "\n",
    "# Display the first few rows of the transactions dataframe\n",
    "negative_reviews_df.head()\n",
    "\n"
   ]
  },
  {
   "cell_type": "markdown",
   "id": "cc272214-5b34-45d2-b9cf-5380e0254936",
   "metadata": {},
   "source": [
    "## Applying the Apriori Algorithm\n",
    "\n",
    "We will use the Apriori algorithm to discover frequent itemsets of words in the negative reviews.\n"
   ]
  },
  {
   "cell_type": "code",
   "execution_count": null,
   "id": "2cfc8201-f310-488e-a171-bdaf498f1f8a",
   "metadata": {},
   "outputs": [],
   "source": [
    "# Apply the Apriori algorithm\n",
    "frequent_itemsets = apriori(negative_reviews_df, min_support=0.01, use_colnames=True)\n",
    "\n",
    "# Display the frequent itemsets\n",
    "frequent_itemsets.head()\n"
   ]
  },
  {
   "cell_type": "markdown",
   "id": "7d67d044-619b-45d9-9ff8-e35c08e5b518",
   "metadata": {},
   "source": [
    "## Extracting Association Rules\n",
    "\n",
    "We will extract association rules from the frequent itemsets to identify patterns of co-occurring words.\n"
   ]
  },
  {
   "cell_type": "code",
   "execution_count": null,
   "id": "ba64b584-7453-4413-9f24-28664bcfe05e",
   "metadata": {},
   "outputs": [],
   "source": [
    "from mlxtend.frequent_patterns import association_rules\n",
    "\n",
    "# Extract association rules\n",
    "rules = association_rules(frequent_itemsets, metric=\"lift\", min_threshold=1.0)\n",
    "\n",
    "# Display the association rules\n",
    "rules.head()\n"
   ]
  },
  {
   "cell_type": "markdown",
   "id": "3228904a-7760-48c9-8e9a-b7cf85b3bc2b",
   "metadata": {},
   "source": [
    "## Visualizing the Association Rules\n",
    "\n",
    "We will visualize the top association rules based on lift.\n"
   ]
  },
  {
   "cell_type": "code",
   "execution_count": null,
   "id": "bee6bbe0-c7e6-4976-8efd-3015aef52d3b",
   "metadata": {},
   "outputs": [],
   "source": [
    "# Sort the rules by lift\n",
    "rules = rules.sort_values(by='lift', ascending=False)\n",
    "\n",
    "# Plot the top 10 association rules\n",
    "top_rules = rules.head(10)\n",
    "plt.figure(figsize=(12, 6))\n",
    "plt.barh(range(len(top_rules)), top_rules['lift'], color='blue')\n",
    "plt.yticks(range(len(top_rules)), [f\"{list(rule['antecedents'])} -> {list(rule['consequents'])}\" for rule in top_rules.to_dict('records')])\n",
    "plt.xlabel('Lift')\n",
    "plt.ylabel('Rule')\n",
    "plt.title('Top 10 Association Rules')\n",
    "plt.gca().invert_yaxis()\n",
    "plt.show()\n"
   ]
  }
 ],
 "metadata": {
  "kernelspec": {
   "display_name": "Python 3 (ipykernel)",
   "language": "python",
   "name": "python3"
  },
  "language_info": {
   "codemirror_mode": {
    "name": "ipython",
    "version": 3
   },
   "file_extension": ".py",
   "mimetype": "text/x-python",
   "name": "python",
   "nbconvert_exporter": "python",
   "pygments_lexer": "ipython3",
   "version": "3.10.12"
  }
 },
 "nbformat": 4,
 "nbformat_minor": 5
}
